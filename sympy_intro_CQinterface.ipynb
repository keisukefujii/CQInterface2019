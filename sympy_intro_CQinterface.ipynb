{
 "cells": [
  {
   "cell_type": "markdown",
   "metadata": {},
   "source": [
    "## がっつり理解する理論編\n",
    "ここでは、量子コンピュータの仕組みを完全に理解するために必要な量子力学をマスターし、量子コンピュータを用いてどのように行列要素の計算や固有値の推定ができるかをみていくことにする。特に、〜〜〜章では深入りしなかった、テンソル積という考え方が、量子コンピュータを深く理解するうえで必須である。テンソル積の計算は少し複雑であるが、pythonの数式処理ライブラリSymPyでは、量子力学の代数処理がサポートされている。SymPyを用いながら量子力学の理解をすすめながら、量子コンピュータにとってもっとも重要なアルゴリズムである位相推定アルゴリズムを紹介する。"
   ]
  },
  {
   "cell_type": "markdown",
   "metadata": {},
   "source": [
    "### 量子ビット\n",
    "古典コンピュータ内部では情報は 0 と 1 の２つの状態で表現されている。例えば、スイッチのオン・オフの状態や、電荷がたまった状態とそうでない状態、電圧の高・低などでその２状態を表現している。一方、量子力学では異なる２つの状態の**重ね合わせ状態**というのが許されているので、量子の世界の情報の最小単位である\"量子\"ビットは $\\alpha$と$\\beta$という二つの複素数を用いた複素ベクトルを用いて\n",
    "$$\n",
    "\\left(\n",
    "\\begin{array}{c}\n",
    "\\alpha \n",
    "\\\\\n",
    "\\beta \n",
    "\\end{array}\n",
    "\\right)\n",
    "$$\n",
    "量子状態が記述される。"
   ]
  },
  {
   "cell_type": "markdown",
   "metadata": {},
   "source": [
    "$\\alpha$や$\\beta$はどの程度の重みで0状態と1状態が重ね合わさっている、ということを表しており**複素確率振幅**と呼ばれる。\n",
    "$\\alpha$や$\\beta$が複素数になっているのは、量子の世界では0や1といった離散的な量も波の性質をみたし干渉するためである。\n",
    "\n",
    "古典ビットの0に対応する状態は\n",
    "$$\n",
    "\\left(\n",
    "\\begin{array}{c}\n",
    "1 \n",
    "\\\\\n",
    "0\n",
    "\\end{array}\n",
    "\\right)\n",
    "$$\n",
    "1に対応する状態は\n",
    "$$\n",
    "\\left(\n",
    "\\begin{array}{c}\n",
    "0 \n",
    "\\\\\n",
    "1\n",
    "\\end{array}\n",
    "\\right)\n",
    "$$\n",
    "となる。"
   ]
  },
  {
   "cell_type": "markdown",
   "metadata": {},
   "source": [
    "列ベクトルを毎回書いているとスペースが無駄なので**ディラックのブラケット表記**という簡略化した表記を導入する。これは列ベクトルである、という量子状態の型宣言のようなもので、この記号がついていると量子状態をあらわす複素ベクトルであることが一目でわかるようになっている。\n",
    "\n",
    "$$\n",
    "|0\\rangle = \\left(\n",
    "\\begin{array}{c}\n",
    "1 \n",
    "\\\\\n",
    "0\n",
    "\\end{array}\n",
    "\\right)\n",
    "$$\n",
    "$$\n",
    "|1\\rangle = \\left(\n",
    "\\begin{array}{c}\n",
    "0\n",
    "\\\\\n",
    "1\n",
    "\\end{array}\n",
    "\\right)\n",
    "$$\n",
    "この表記を用いると量子ビットは\n",
    "$$\n",
    "|\\psi \\rangle = \\alpha |0\\rangle + \\beta |1\\rangle \n",
    "$$\n",
    "と書かれる（スペースが省略できた！）。"
   ]
  },
  {
   "cell_type": "markdown",
   "metadata": {},
   "source": [
    "### 複素確率振幅の意味"
   ]
  },
  {
   "cell_type": "markdown",
   "metadata": {},
   "source": [
    "複素確率振幅はいったいどのような物理的実体に対応するだろうか。実は、量子力学では観測者（人間）は直接複素確率振幅にはアクセスすることができず、**測定という操作をした時に初めて0か1かが確率的にきまる** 0もしくは1になる確率に影響するのが複素確率振幅である：\n",
    "$$ \n",
    "p_0 = |\\alpha |^2 \n",
    "\\\\\n",
    "p_1 = |\\beta |^2\n",
    "$$\n",
    "で表される。確率が1になるために、規格化条件 $|\\alpha |^2 + |\\beta |^2 =1$を課す。\n",
    "\n",
    "\n",
    "つまり、量子状態とは、大きさが１に規格化された複素ベクトルによって記述され、各成分の絶対値の２乗が測定をしたときにその成分に対応する状態を得る確率に対応している。なので、\n",
    "$$\n",
    "|0\\rangle = \\left(\n",
    "\\begin{array}{c}\n",
    "1 \n",
    "\\\\\n",
    "0\n",
    "\\end{array}\n",
    "\\right), |1\\rangle = \\left(\n",
    "\\begin{array}{c}\n",
    "0\n",
    "\\\\\n",
    "1\n",
    "\\end{array}\n",
    "\\right)\n",
    "$$\n",
    "は、確実に0や1が得られる古典的な状態に対応し、\n",
    "$$\n",
    "\\frac{1}{\\sqrt{2}}\n",
    "(|0\\rangle + |1\\rangle) = \\left(\n",
    "\\begin{array}{c}\n",
    "\\frac{1}{\\sqrt{2}}\n",
    "\\\\\n",
    "\\frac{1}{\\sqrt{2}}\n",
    "\\end{array}\n",
    "\\right)\n",
    "$$\n",
    "は0と1が同じおもみで重ね合わさった状態であり、測定をすると0と1が確率1/2で完全にランダムに得られる。\n",
    "\n",
    "　複素数も用いてよいので、\n",
    "$$\n",
    "\\frac{1}{\\sqrt{2}}(|0\\rangle + i|1\\rangle ) \n",
    "= \n",
    "\\left( \n",
    "\\begin{array}{c}\n",
    "\\frac{1}{\\sqrt{2}}\n",
    "\\\\\n",
    "\\frac{i}{\\sqrt{2}}\n",
    "\\end{array}\n",
    "\\right)\n",
    "$$\n",
    "といった状態も許されている。\n",
    "\n",
    "一般に\n",
    "$$\n",
    "\\frac{1}{\\sqrt{2}} ( |0\\rangle + e^{ i \\phi } |1\\rangle )\n",
    "$$\n",
    "なども許されている。"
   ]
  },
  {
   "cell_type": "markdown",
   "metadata": {},
   "source": [
    "### SymPyを用いて量子ビットを表示してみる\n",
    "SymPyでは、量子状態の型が用意されている。初期化された量子ビットを準備する場合は ` Qubit() ` 関数を用いて\n"
   ]
  },
  {
   "cell_type": "code",
   "execution_count": 3,
   "metadata": {},
   "outputs": [],
   "source": [
    "from IPython.display import Image, display_png\n",
    "from sympy import *\n",
    "from sympy.physics.quantum import *\n",
    "from sympy.physics.quantum.qubit import Qubit,QubitBra\n",
    "init_printing() # ベクトルや行列を綺麗に表示するため\n",
    "\n",
    "psi = Qubit('0')"
   ]
  },
  {
   "cell_type": "code",
   "execution_count": 4,
   "metadata": {},
   "outputs": [
    {
     "data": {
      "image/png": "[encoded data removed]",
      "text/latex": [
       "$${\\left|0\\right\\rangle }$$"
      ],
      "text/plain": [
       "❘0⟩"
      ]
     },
     "execution_count": 4,
     "metadata": {},
     "output_type": "execute_result"
    }
   ],
   "source": [
    "psi #ブラケット表示"
   ]
  },
  {
   "cell_type": "code",
   "execution_count": 5,
   "metadata": {},
   "outputs": [
    {
     "data": {
      "image/png": "[encoded data removed]",
      "text/latex": [
       "$$\\left[\\begin{matrix}1\\\\0\\end{matrix}\\right]$$"
      ],
      "text/plain": [
       "⎡1⎤\n",
       "⎢ ⎥\n",
       "⎣0⎦"
      ]
     },
     "execution_count": 5,
     "metadata": {},
     "output_type": "execute_result"
    }
   ],
   "source": [
    "represent(psi) #列ベクトル表示"
   ]
  },
  {
   "cell_type": "markdown",
   "metadata": {},
   "source": [
    "SymPyでは文字をシンボルとして扱うことができるので、一般的な量子ビットも、"
   ]
  },
  {
   "cell_type": "code",
   "execution_count": 6,
   "metadata": {},
   "outputs": [
    {
     "data": {
      "image/png": "[encoded data removed]",
      "text/latex": [
       "$$\\alpha {\\left|0\\right\\rangle } + \\beta {\\left|1\\right\\rangle }$$"
      ],
      "text/plain": [
       "α⋅❘0⟩ + β⋅❘1⟩"
      ]
     },
     "execution_count": 6,
     "metadata": {},
     "output_type": "execute_result"
    }
   ],
   "source": [
    "a, b = symbols('alpha, beta')  #a, bをシンボルとして、alpha, betaとして表示\n",
    "ket0 = Qubit('0')\n",
    "ket1 = Qubit('1')\n",
    "psi = a * ket0 + b* ket1\n",
    "psi # 状態をそのまま書くとケットで表示してくれる"
   ]
  },
  {
   "cell_type": "markdown",
   "metadata": {},
   "source": [
    "行列表示は、"
   ]
  },
  {
   "cell_type": "code",
   "execution_count": 7,
   "metadata": {},
   "outputs": [
    {
     "data": {
      "image/png": "[encoded data removed]",
      "text/latex": [
       "$$\\left[\\begin{matrix}\\alpha\\\\\\beta\\end{matrix}\\right]$$"
      ],
      "text/plain": [
       "⎡α⎤\n",
       "⎢ ⎥\n",
       "⎣β⎦"
      ]
     },
     "execution_count": 7,
     "metadata": {},
     "output_type": "execute_result"
    }
   ],
   "source": [
    "represent(psi)"
   ]
  },
  {
   "cell_type": "markdown",
   "metadata": {},
   "source": [
    "もちろん具体的な数値を代入することもできる。"
   ]
  },
  {
   "cell_type": "code",
   "execution_count": 8,
   "metadata": {},
   "outputs": [
    {
     "data": {
      "image/png": "[encoded data removed]",
      "text/latex": [
       "$$\\frac{\\sqrt{2}}{2} {\\left|0\\right\\rangle } + \\frac{\\sqrt{2}}{2} {\\left|1\\right\\rangle }$$"
      ],
      "text/plain": [
       "√2⋅❘0⟩   √2⋅❘1⟩\n",
       "────── + ──────\n",
       "  2        2   "
      ]
     },
     "execution_count": 8,
     "metadata": {},
     "output_type": "execute_result"
    }
   ],
   "source": [
    "psi.subs([([a,1/sqrt(2)]),([b,1/sqrt(2)])]) # alpha, betaに具体的な数字を代入"
   ]
  },
  {
   "cell_type": "markdown",
   "metadata": {},
   "source": [
    "### 量子ビットに対する基本演算"
   ]
  },
  {
   "cell_type": "markdown",
   "metadata": {},
   "source": [
    "古典計算がAND、OR、NOT、NANDなどの論理演算から\n",
    "構成されるのと同様、量子計算も基本的な演算から構成される。\n",
    "量子力学では時間発展はつねに線型なので、**量子コンピュータ上で許された操作は状態ベクトルに対する線型変換**ということになる\n",
    "。\n",
    "１つの量子ビットの量子状態は規格化された２次元複素ベクトル\n",
    "として表現されるのだった。それに対する線型演算は$2 \\times 2$の\n",
    "複素行列によって表現される。規格化条件（確率の合計は1）を守りたいので、\n",
    "転置と複素共役（エルミート共役）が逆行列になるようなユニタリー行列\n",
    "$$\n",
    "U U^{\\dagger} = I\n",
    "$$ \n",
    "（ただし、${}^\\dagger$は転置と複素共役を意味する）\n",
    "が量子演算に対応する。"
   ]
  },
  {
   "cell_type": "markdown",
   "metadata": {},
   "source": [
    "１つの量子ビットに作用する基本的な量子演算\n",
    "として**パウリ演算子**を導入する。\n",
    "\\begin{eqnarray}\n",
    "I&=&\n",
    "\\left(\\begin{array}{cc}\n",
    "1 & 0\n",
    "\\\\\n",
    "0 & 1\n",
    "\\end{array}\n",
    "\\right),\\;\\;\\;\n",
    "X=\n",
    "\\left(\\begin{array}{cc}\n",
    "0 & 1\n",
    "\\\\\n",
    "1 & 0\n",
    "\\end{array}\n",
    "\\right),\\;\\;\\;\n",
    "Y &=&\n",
    "\\left(\\begin{array}{cc}\n",
    "0 & -i\n",
    "\\\\\n",
    "i & 0\n",
    "\\end{array}\n",
    "\\right),\\;\\;\\;\n",
    "Z=\n",
    "\\left(\\begin{array}{cc}\n",
    "1 & 0\n",
    "\\\\\n",
    "0 & -1\n",
    "\\end{array}\n",
    "\\right).\n",
    "\\end{eqnarray}\n",
    "\n",
    "$X$は古典ビットの反転（NOT）に対応し\n",
    "$$X|0\\rangle = |1\\rangle, \\;\\;\n",
    "X|1\\rangle = |0\\rangle\n",
    "$$\n",
    "のように作用する。\n",
    "\n",
    "重ね合わせのある量子ビットの場合は、\n",
    "$|0\\rangle$と$|1\\rangle$の位相も\n",
    "情報として保持できるので、位相を反転\n",
    "$$Z|1\\rangle = -|1\\rangle$$\n",
    "させる$Z$演算子も定義されている。\n",
    "\n",
    "例えば、\n",
    "$$\n",
    "Z \\frac{1}{\\sqrt{2}} ( |0\\rangle + |1\\rangle ) = \\frac{1}{\\sqrt{2}} ( |0\\rangle - |1\\rangle ) \n",
    "$$\n",
    "となる。\n",
    "\n",
    "$Y = i XZ$演算子は位相の反転とビットの反転を\n",
    "組み合わせたもの（全体にかかる複素数$i$を除いて）であると\n",
    "考えることができる。\n",
    "\n",
    "パウリ演算子の作用を\n",
    "$$\n",
    "\\left( \n",
    "\\begin{array}{cc}\n",
    "0 & 1 \n",
    "\\\\\n",
    "1 & 0 \n",
    "\\end{array}\n",
    "\\right)\n",
    "\\left( \n",
    "\\begin{array}{c}\n",
    "1 \n",
    "\\\\\n",
    "0 \n",
    "\\end{array}\n",
    "\\right)\n",
    "=\n",
    "\\left( \n",
    "\\begin{array}{c}\n",
    "0\n",
    "\\\\\n",
    "1 \n",
    "\\end{array}\n",
    "\\right)\n",
    "$$\n",
    "のように計算してもよいが、上記のようにディラックのブラケット表記をつかって計算をしたほうが圧倒的に楽。"
   ]
  },
  {
   "cell_type": "markdown",
   "metadata": {},
   "source": [
    "### SymPyを用いた一量子ビット演算\n",
    "SymPyではよく使う基本演算はあらかじめ定義されている。"
   ]
  },
  {
   "cell_type": "code",
   "execution_count": 9,
   "metadata": {},
   "outputs": [],
   "source": [
    "from sympy.physics.quantum.gate import X,Y,Z,H,S,T,CNOT,SWAP, CPHASE"
   ]
  },
  {
   "cell_type": "markdown",
   "metadata": {},
   "source": [
    "演算子は何番目の量子ビットに作用するか、\n",
    "というのを指定して `X(0)` のように定義すっる。\n",
    "また、これを行列表示するときには、いくつの量子ビットの空間で表現するか \n",
    "`nqubits`というのを指定する必要がある。\n",
    "まだ、量子ビットは１つしかいないので、\n",
    "`X(0)`、`nqubits=1`としておこう。"
   ]
  },
  {
   "cell_type": "code",
   "execution_count": 10,
   "metadata": {},
   "outputs": [
    {
     "data": {
      "image/png": "[encoded data removed]",
      "text/latex": [
       "$$X_{0}$$"
      ],
      "text/plain": [
       "X \n",
       " 0"
      ]
     },
     "execution_count": 10,
     "metadata": {},
     "output_type": "execute_result"
    }
   ],
   "source": [
    "X(0)"
   ]
  },
  {
   "cell_type": "code",
   "execution_count": 11,
   "metadata": {},
   "outputs": [
    {
     "data": {
      "image/png": "[encoded data removed]",
      "text/latex": [
       "$$\\left[\\begin{matrix}0 & 1\\\\1 & 0\\end{matrix}\\right]$$"
      ],
      "text/plain": [
       "⎡0  1⎤\n",
       "⎢    ⎥\n",
       "⎣1  0⎦"
      ]
     },
     "execution_count": 11,
     "metadata": {},
     "output_type": "execute_result"
    }
   ],
   "source": [
    "represent(X(0),nqubits=1)  # パウリX"
   ]
  },
  {
   "cell_type": "markdown",
   "metadata": {},
   "source": [
    "同様に、Y,Zなども利用することができる。それに加え、アダマール演算 `H` や、位相演算 `S`、そしてpi/4の位相演算\n",
    " `T` も利用することができる："
   ]
  },
  {
   "cell_type": "code",
   "execution_count": 12,
   "metadata": {},
   "outputs": [
    {
     "data": {
      "image/png": "[encoded data removed]",
      "text/latex": [
       "$$\\left[\\begin{matrix}\\frac{1}{\\sqrt{2}} & \\frac{1}{\\sqrt{2}}\\\\\\frac{1}{\\sqrt{2}} & - \\frac{\\sqrt{2}}{2}\\end{matrix}\\right]$$"
      ],
      "text/plain": [
       "⎡1    1  ⎤\n",
       "⎢──   ── ⎥\n",
       "⎢√2   √2 ⎥\n",
       "⎢        ⎥\n",
       "⎢1   -√2 ⎥\n",
       "⎢──  ────⎥\n",
       "⎣√2   2  ⎦"
      ]
     },
     "execution_count": 12,
     "metadata": {},
     "output_type": "execute_result"
    }
   ],
   "source": [
    "represent(H(0),nqubits=1)"
   ]
  },
  {
   "cell_type": "code",
   "execution_count": 13,
   "metadata": {},
   "outputs": [
    {
     "data": {
      "image/png": "[encoded data removed]",
      "text/latex": [
       "$$\\left[\\begin{matrix}1 & 0\\\\0 & i\\end{matrix}\\right]$$"
      ],
      "text/plain": [
       "⎡1  0⎤\n",
       "⎢    ⎥\n",
       "⎣0  ⅈ⎦"
      ]
     },
     "execution_count": 13,
     "metadata": {},
     "output_type": "execute_result"
    }
   ],
   "source": [
    "represent(S(0),nqubits=1)"
   ]
  },
  {
   "cell_type": "code",
   "execution_count": 14,
   "metadata": {},
   "outputs": [
    {
     "data": {
      "image/png": "[encoded data removed]",
      "text/latex": [
       "$$\\left[\\begin{matrix}1 & 0\\\\0 & e^{\\frac{i \\pi}{4}}\\end{matrix}\\right]$$"
      ],
      "text/plain": [
       "⎡1   0  ⎤\n",
       "⎢       ⎥\n",
       "⎢    ⅈ⋅π⎥\n",
       "⎢    ───⎥\n",
       "⎢     4 ⎥\n",
       "⎣0  ℯ   ⎦"
      ]
     },
     "execution_count": 14,
     "metadata": {},
     "output_type": "execute_result"
    }
   ],
   "source": [
    "represent(T(0),nqubits=1)"
   ]
  },
  {
   "cell_type": "markdown",
   "metadata": {},
   "source": [
    "これらの演算を状態に作用させるのは、"
   ]
  },
  {
   "cell_type": "code",
   "execution_count": 15,
   "metadata": {},
   "outputs": [
    {
     "data": {
      "image/png": "[encoded data removed]",
      "text/latex": [
       "$$S_{0} Y_{0} X_{0} H_{0} {\\left|0\\right\\rangle }$$"
      ],
      "text/plain": [
       "S ⋅Y ⋅X ⋅H ⋅❘0⟩\n",
       " 0  0  0  0    "
      ]
     },
     "execution_count": 15,
     "metadata": {},
     "output_type": "execute_result"
    }
   ],
   "source": [
    "S(0)*Y(0)*X(0)*H(0)*ket0"
   ]
  },
  {
   "cell_type": "markdown",
   "metadata": {},
   "source": [
    "のように `*`で書くことができる。実際に計算をする場合は `qapply()`を利用する。"
   ]
  },
  {
   "cell_type": "code",
   "execution_count": 16,
   "metadata": {},
   "outputs": [
    {
     "data": {
      "image/png": "[encoded data removed]",
      "text/latex": [
       "$$- \\frac{\\sqrt{2} i}{2} {\\left|0\\right\\rangle } - \\frac{\\sqrt{2}}{2} {\\left|1\\right\\rangle }$$"
      ],
      "text/plain": [
       "  √2⋅ⅈ⋅❘0⟩   √2⋅❘1⟩\n",
       "- ──────── - ──────\n",
       "     2         2   "
      ]
     },
     "execution_count": 16,
     "metadata": {},
     "output_type": "execute_result"
    }
   ],
   "source": [
    "qapply(S(0)*Y(0)*X(0)*H(0)*ket0)"
   ]
  },
  {
   "cell_type": "markdown",
   "metadata": {},
   "source": [
    "この列ベクトル表示が必要な場合は、"
   ]
  },
  {
   "cell_type": "code",
   "execution_count": 17,
   "metadata": {},
   "outputs": [
    {
     "data": {
      "image/png": "[encoded data removed]",
      "text/latex": [
       "$$\\left[\\begin{matrix}- \\frac{\\sqrt{2} i}{2}\\\\- \\frac{\\sqrt{2}}{2}\\end{matrix}\\right]$$"
      ],
      "text/plain": [
       "⎡-√2⋅ⅈ ⎤\n",
       "⎢──────⎥\n",
       "⎢  2   ⎥\n",
       "⎢      ⎥\n",
       "⎢ -√2  ⎥\n",
       "⎢ ──── ⎥\n",
       "⎣  2   ⎦"
      ]
     },
     "execution_count": 17,
     "metadata": {},
     "output_type": "execute_result"
    }
   ],
   "source": [
    "represent(qapply(S(0)*Y(0)*X(0)*H(0)*ket0))"
   ]
  },
  {
   "cell_type": "markdown",
   "metadata": {},
   "source": [
    "のような感じで、SymPyは簡単な行列の計算はすべて自動的にやってくれる。"
   ]
  },
  {
   "cell_type": "markdown",
   "metadata": {},
   "source": [
    "### ブラケット表記のまとめ（必要であればコラムへ）\n",
    "列ベクトルは \n",
    "$$\n",
    "|\\psi \\rangle = \\left( \n",
    "\\begin{array}{c}\n",
    "\\alpha\n",
    "\\\\\n",
    "\\beta \n",
    "\\end{array}\n",
    "\\right)\n",
    "$$\n",
    "とかくのであった。同様に、行ベクトルは\n",
    "$$\n",
    "\\langle \\psi | = ( |\\psi \\rangle ) ^{\\dagger} = ( \\alpha ^* , \\beta ^*)\n",
    "$$\n",
    "とかく。${\\dagger}$マークは転置と複素共役を取る操作で、列ベクトルを行ベクトルへと移す。\n",
    "\n",
    "２つのベクトル、\n",
    "$$\n",
    "|\\psi \\rangle = \\left( \n",
    "\\begin{array}{c}\n",
    "\\alpha\n",
    "\\\\\n",
    "\\beta \n",
    "\\end{array}\n",
    "\\right), \\;\\;\\;\n",
    "|\\phi \\rangle = \\left( \n",
    "\\begin{array}{c}\n",
    "\\gamma\n",
    "\\\\\n",
    "\\delta\n",
    "\\end{array}\n",
    "\\right)\n",
    "$$\n",
    "があったとする。ブラケットを抱き合わせると\n",
    "$$\n",
    "\\langle \\phi | \\psi \\rangle = (\\gamma ^* , \\delta ^* ) \\left( \n",
    "\\begin{array}{c}\n",
    "\\alpha\n",
    "\\\\\n",
    "\\beta \n",
    "\\end{array}\n",
    "\\right) = \\gamma ^* \\alpha + \\delta ^* \\beta \n",
    "$$\n",
    "となり、**内積**に対応する。\n",
    "\n",
    "逆に、背中合わせにあすると\n",
    "$$\n",
    "|\\phi \\rangle \\langle \\psi | = \\left( \n",
    "\\begin{array}{c}\n",
    "\\gamma\n",
    "\\\\\n",
    "\\delta\n",
    "\\end{array}\n",
    "\\right) (\\alpha ^* , \\beta ^*) = \\left( \n",
    "\\begin{array}{cc}\n",
    "\\gamma \\alpha ^*  & \\gamma \\beta ^* \n",
    "\\\\\n",
    "\\delta \\alpha ^*   & \\delta \\beta ^*\n",
    "\\end{array}\n",
    "\\right)\n",
    "$$\n",
    "となり、演算子となる。例えば、\n",
    "$$\n",
    "X= |0\\rangle \\langle 1 | + |1\\rangle \\langle 0|\n",
    "$$\n",
    "となる。このことを覚えておけば\n",
    "$$\n",
    "\\langle 0| 0\\rangle = \\langle 1 | 1\\rangle = 1, \\;\\;\\; \\langle 0 | 1 \\rangle = \\langle 1 | 0 \\rangle = 0\n",
    "$$\n",
    "から \n",
    "$$\n",
    "X |0\\rangle = |1\\rangle\n",
    "$$\n",
    "を行列を書かずに計算できるようになる。**このように量子情報のほとんどの解析計算において実際にベクトルの要素を書き下して計算をすることはほとんどなく、ブラケットを使って形式的に書く場合が多い**（古典計算機上で量子コンピュータをシミュレーションする場合はベクトルをすべて書き下すことになる）。\n",
    "\n",
    "同様に、\n",
    "$$\n",
    "I = |0\\rangle \\langle 0 | + |1\\rangle \\langle 1| , \\;\\;\\; Z = |0\\rangle \\langle 0| - |1\\rangle \\langle 1| \n",
    "$$\n",
    "も覚えておくと便利。"
   ]
  },
  {
   "cell_type": "markdown",
   "metadata": {},
   "source": [
    "### 複数量子ビットの記述"
   ]
  },
  {
   "cell_type": "markdown",
   "metadata": {},
   "source": [
    "$n$個の古典ビットの状態は$n$個の$0,1$の数字によって表現され、\n",
    "そのパターンの総数は$2^n$個ある。\n",
    "\n",
    "量子力学では、これらすべてのパターンの重ね合わせ状態が許されているので、どのビット列がどのような重みで重ね合わせになっているかという$2^n$個の複素確率振幅で記述される：\n",
    "\\begin{eqnarray}\n",
    "|\\psi \\rangle &= & \n",
    "c_{00...0} |00...0\\rangle \n",
    "+ c_{00...1} |00...1\\rangle \n",
    "+ \\cdots \n",
    "+ c_{11...1} |11...1\\rangle\n",
    "=  \n",
    "\\left(\n",
    "\\begin{array}{c}\n",
    "c_{00...0}\n",
    "\\\\\n",
    "c_{00...1}\n",
    "\\\\\n",
    "\\vdots\n",
    "\\\\\n",
    "c_{11...1}\n",
    "\\end{array}\n",
    "\\right).\n",
    "\\end{eqnarray}\n",
    "ただし、\n",
    "複素確率振幅は規格化\n",
    "$\\sum _{i_1,..., i_n} |c_{i_1...i_n}|^2=1$\n",
    "されているものとする。\n",
    "\n",
    "**このように$n$量子ビットの重ね合わせ状態は、\n",
    "$n$に対して指数的に大きい$2^n$次元の\n",
    "複素ベクトル空間で記述する必要があり、\n",
    "ここに古典ビットと量子ビットの違いが顕著に現れる**。\n",
    "\n",
    "量子コンピュータとは量子ビット数に対して指数的なサイズの複素ベクトルを物理法則に従ってユニタリー変換するコンピュータのことである。\n",
    "\n",
    "この$n$量子ビットの量子状態を測定すると\n",
    "ビット列$i_1 ... i_n$が確率\n",
    "\\begin{eqnarray}\n",
    "p_{i_1 ... i_n} &=&|c_{i_1 ... i_n}|^2\n",
    "\\label{eq02}\n",
    "\\end{eqnarray}\n",
    "でランダムに得られる。\n",
    "\n",
    "初期状態として\n",
    "$$ \n",
    "|00...0\\rangle \n",
    "$$\n",
    "を準備したとき\n",
    "$$\n",
    "\\left(\n",
    "\\begin{array}{c}\n",
    "c_{00...0}\n",
    "\\\\\n",
    "c_{00...1}\n",
    "\\\\\n",
    "\\vdots\n",
    "\\\\\n",
    "c_{11...1}\n",
    "\\end{array}\n",
    "\\right)　\n",
    "= \n",
    "\\left(\n",
    "\\begin{array}{c}\n",
    "1\n",
    "\\\\\n",
    "0\n",
    "\\\\\n",
    "\\vdots\n",
    "\\\\\n",
    "0\n",
    "\\end{array}\n",
    "\\right)　\n",
    ".\n",
    "$$"
   ]
  },
  {
   "cell_type": "markdown",
   "metadata": {},
   "source": [
    " 2量子ビットの場合は、 00, 01, 10, 11 の４通りの状態の重ね合わせがとりうるので\n",
    "$$\n",
    "c_{00} |00\\rangle + c_{01} |01\\rangle + c_{10}|10\\rangle + c_{11} |11\\rangle  = \n",
    "\\left( \n",
    "\\begin{array}{c}\n",
    "c_{00}\n",
    "\\\\\n",
    "c_{01}\n",
    "\\\\\n",
    "c_{10}\n",
    "\\\\\n",
    "c_{11}\n",
    "\\end{array}\n",
    "\\right)\n",
    "$$\n",
    "と一般的にかける。"
   ]
  },
  {
   "cell_type": "markdown",
   "metadata": {},
   "source": [
    "２量子ビットに作用する演算としてもっとも重要なのが制御NOT演算（CNOT）\n",
    "\\begin{eqnarray}\n",
    "\\Lambda(X) =\n",
    "\\left(\n",
    "\\begin{array}{cccc}\n",
    "1 & 0 & 0& 0\n",
    "\\\\\n",
    "0 & 1 & 0& 0\n",
    "\\\\\n",
    "0 & 0 & 0 & 1\n",
    "\\\\\n",
    "0 & 0 & 1& 0\n",
    "\\end{array}\n",
    "\\right)\n",
    "\\end{eqnarray}\n",
    "がある。\n",
    "4行4列の行列成分はそれぞれ$|00\\rangle,|01\\rangle,|10\\rangle, |01\\rangle$\n",
    "成分に対応する。\n",
    "\n",
    "つまり、\n",
    "１つめの量子ビットが$|0\\rangle$の場合は何もせず（恒等演算$I$が作用）、\n",
    "$|1\\rangle$の場合に２つめの量子ビットに$X$を作用させる。\n",
    "１つ目の量子ビットを制御量子ビット、２つめの量子ビットをターゲット量子ビットと呼ぶ。\n",
    "制御NOT演算の作用は、$\\oplus$を mod 2の足し算として、\n",
    "\\begin{eqnarray}\n",
    "\\Lambda(X) |ij \\rangle = |i \\;\\; (i\\oplus j)\\rangle\n",
    "\\end{eqnarray}\n",
    "と書けるので、古典計算における排他的論理和（XOR）を可逆にしたものである。\n",
    "例えば、１つめの量子ビットを$|0\\rangle$と$|1\\rangle$の\n",
    "重ね合わせ状態にし、２つめの量子ビットを$|0\\rangle$として\n",
    "\\begin{eqnarray}\n",
    "\\frac{1}{\\sqrt{2}}(|0\\rangle + |1\\rangle )\\otimes |0\\rangle \n",
    "=\n",
    "\\frac{1}{\\sqrt{2}}\n",
    "\\left(\n",
    "\\begin{array}{c}\n",
    "1\n",
    "\\\\\n",
    "0\n",
    "\\\\\n",
    "1\n",
    "\\\\\n",
    "0\n",
    "\\end{array}\n",
    "\\right)\n",
    "\\end{eqnarray}\n",
    "にCNOTを作用させると、\n",
    "\\begin{eqnarray}\n",
    "\\frac{1}{\\sqrt{2}}( |00\\rangle + |11\\rangle )\n",
    "=\n",
    "\\frac{1}{\\sqrt{2}}\n",
    "\\left(\n",
    "\\begin{array}{c}\n",
    "1\n",
    "\\\\\n",
    "0\n",
    "\\\\\n",
    "0\n",
    "\\\\\n",
    "1\n",
    "\\end{array}\n",
    "\\right)\n",
    "\\end{eqnarray}\n",
    "が得られる。\n",
    "\n",
    "例：CNOT ゲートを組み合わせることでSWAP ゲートを作ることができる。\n",
    "$$\\Lambda(X)_{i,j}$$ をi 番目の量子ビットを制御、j 番目の量子ビットをターゲットとするCNOT ゲートとして、\n",
    "$$\n",
    "\\begin{eqnarray}\n",
    "SWAP &=& \\Lambda(X)_{1,2} \\Lambda(X)_{2,1} \\Lambda(X)_{1,2}\n",
    "&=&\n",
    "\\left(\n",
    "\\begin{array}{cccc}\n",
    "1 & 0 & 0 & 0 \\\\\n",
    "0 & 1 & 0 & 0 \\\\\n",
    "0 & 0 & 0 & 1 \\\\\n",
    "0 & 0 & 1 & 0\n",
    "\\end{array}\n",
    "\\right)\n",
    "\\left(\n",
    "\\begin{array}{cccc}\n",
    "1 & 0 & 0 & 0 \\\\\n",
    "0 & 0 & 0 & 1 \\\\\n",
    "0 & 0 & 1 & 0 \\\\\n",
    "0 & 1 & 0 & 0\n",
    "\\end{array}\n",
    "\\right)\n",
    "\\left(\n",
    "\\begin{array}{cccc}\n",
    "1 & 0 & 0 & 0 \\\\\n",
    "0 & 1 & 0 & 0 \\\\\n",
    "0 & 0 & 0 & 1 \\\\\n",
    "0 & 0 & 1 & 0\n",
    "\\end{array}\n",
    "\\right)\n",
    "&=&\n",
    "\\left(\n",
    "\\begin{array}{cccc}\n",
    "1 & 0 & 0 & 0 \\\\\n",
    "0 & 0 & 1 & 0 \\\\\n",
    "0 & 1 & 0 & 0 \\\\\n",
    "0 & 0 & 0 & 1\n",
    "\\end{array}\n",
    "\\right)\n",
    "\\end{eqnarray}\n",
    "$$\n",
    "のように書ける。これは1 番目の量子ビットと2 番目の量子ビットが交換するゲートであることが分かる。"
   ]
  },
  {
   "cell_type": "markdown",
   "metadata": {},
   "source": [
    "### テンソル積の計算\n",
    "手計算や解析計算で威力を発揮するのは、**テンソル積**（$\\otimes$）である。\n",
    "これは、複数の量子ビットがある場合に、それをどのようにして、上で見た大きな一つのベクトルへと変換するのか？という計算のルールを与えてくれる。\n",
    "\n",
    "量子力学の世界では、２つの量子状態$|\\psi \\rangle$と$|\\phi \\rangle$があるとき、\n",
    "$$\n",
    "|\\psi \\rangle \\otimes |\\phi\\rangle\n",
    "$$\n",
    "とテンソル積 $\\otimes$ を用いて書く。このような複数の量子系からなる系のことを**複合系**と呼ぶ。例えば２量子ビット系は複合系である。\n",
    "\n",
    "基本的にはテンソル積は、**多項式と同じような計算ルール**で計算してよいと思っていい。\n",
    "例えば、\n",
    "$$ \n",
    "(\\alpha |0\\rangle + \\beta |1\\rangle )\\otimes (\\gamma |0\\rangle + \\delta |1\\rangle )\n",
    "= \\alpha \\gamma |0\\rangle |0\\rangle + \\alpha \\delta |0\\rangle |1\\rangle + \\beta \\gamma |1 \\rangle | 0\\rangle + \\beta \\delta |1\\rangle |1\\rangle \n",
    "$$\n",
    "のように計算する。列ベクトル表示すると、$|00\\rangle$, $|01\\rangle$, $|10\\rangle$, $|11\\rangle$に対応する4次元ベクトル、\n",
    "$$\n",
    "\\left(\n",
    "\\begin{array}{c}\n",
    "\\alpha\n",
    "\\\\\n",
    "\\beta\n",
    "\\end{array}\n",
    "\\right)\n",
    "\\otimes \n",
    "\\left(\n",
    "\\begin{array}{c}\n",
    "\\gamma\n",
    "\\\\\n",
    "\\delta\n",
    "\\end{array}\n",
    "\\right)\n",
    "=\n",
    "\\left(\n",
    "\\begin{array}{c}\n",
    "\\alpha \\gamma\n",
    "\\\\\n",
    "\\alpha \\delta\n",
    "\\\\\n",
    "\\beta \\gamma\n",
    "\\\\\n",
    "\\beta \\delta\n",
    "\\end{array}\n",
    "\\right)\n",
    "$$\n",
    "を得る計算になっている。\n"
   ]
  },
  {
   "cell_type": "markdown",
   "metadata": {},
   "source": [
    "### SymPyを用いたテンソル積の計算\n"
   ]
  },
  {
   "cell_type": "code",
   "execution_count": 18,
   "metadata": {},
   "outputs": [],
   "source": [
    "a,b,c,d = symbols('alpha,beta,gamma,delta')\n",
    "psi = a*Qubit('0')+b*Qubit('1')\n",
    "phi = c*Qubit('0')+d*Qubit('1')"
   ]
  },
  {
   "cell_type": "code",
   "execution_count": 19,
   "metadata": {},
   "outputs": [
    {
     "data": {
      "image/png": "[encoded data removed]",
      "text/latex": [
       "$$\\left({\\alpha {\\left|0\\right\\rangle } + \\beta {\\left|1\\right\\rangle }}\\right)\\otimes \\left({\\delta {\\left|1\\right\\rangle } + \\gamma {\\left|0\\right\\rangle }}\\right)$$"
      ],
      "text/plain": [
       "(α⋅❘0⟩ + β⋅❘1⟩)⨂ (δ⋅❘1⟩ + γ⋅❘0⟩)"
      ]
     },
     "execution_count": 19,
     "metadata": {},
     "output_type": "execute_result"
    }
   ],
   "source": [
    "TensorProduct(psi, phi) #テンソル積"
   ]
  },
  {
   "cell_type": "code",
   "execution_count": 20,
   "metadata": {},
   "outputs": [
    {
     "data": {
      "image/png": "[encoded data removed]",
      "text/latex": [
       "$$\\left[\\begin{matrix}\\alpha \\gamma\\\\\\alpha \\delta\\\\\\beta \\gamma\\\\\\beta \\delta\\end{matrix}\\right]$$"
      ],
      "text/plain": [
       "⎡α⋅γ⎤\n",
       "⎢   ⎥\n",
       "⎢α⋅δ⎥\n",
       "⎢   ⎥\n",
       "⎢β⋅γ⎥\n",
       "⎢   ⎥\n",
       "⎣β⋅δ⎦"
      ]
     },
     "execution_count": 20,
     "metadata": {},
     "output_type": "execute_result"
    }
   ],
   "source": [
    "represent(TensorProduct(psi, phi))"
   ]
  },
  {
   "cell_type": "markdown",
   "metadata": {},
   "source": [
    "さらに$|\\psi\\rangle$とのテンソル積をとると８次元のベクトルになる：\n"
   ]
  },
  {
   "cell_type": "code",
   "execution_count": 21,
   "metadata": {},
   "outputs": [
    {
     "data": {
      "image/png": "[encoded data removed]",
      "text/latex": [
       "$$\\left[\\begin{matrix}\\alpha^{2} \\gamma\\\\\\alpha^{2} \\delta\\\\\\alpha \\beta \\gamma\\\\\\alpha \\beta \\delta\\\\\\alpha \\beta \\gamma\\\\\\alpha \\beta \\delta\\\\\\beta^{2} \\gamma\\\\\\beta^{2} \\delta\\end{matrix}\\right]$$"
      ],
      "text/plain": [
       "⎡ 2   ⎤\n",
       "⎢α ⋅γ ⎥\n",
       "⎢     ⎥\n",
       "⎢ 2   ⎥\n",
       "⎢α ⋅δ ⎥\n",
       "⎢     ⎥\n",
       "⎢α⋅β⋅γ⎥\n",
       "⎢     ⎥\n",
       "⎢α⋅β⋅δ⎥\n",
       "⎢     ⎥\n",
       "⎢α⋅β⋅γ⎥\n",
       "⎢     ⎥\n",
       "⎢α⋅β⋅δ⎥\n",
       "⎢     ⎥\n",
       "⎢ 2   ⎥\n",
       "⎢β ⋅γ ⎥\n",
       "⎢     ⎥\n",
       "⎢ 2   ⎥\n",
       "⎣β ⋅δ ⎦"
      ]
     },
     "execution_count": 21,
     "metadata": {},
     "output_type": "execute_result"
    }
   ],
   "source": [
    "represent(TensorProduct(psi,TensorProduct(psi, phi)))"
   ]
  },
  {
   "cell_type": "markdown",
   "metadata": {},
   "source": [
    "### 演算子のテンソル積\n",
    "演算子についても何番目の量子ビットに作用するのか、というのをテンソル積をもちいて表現することができる。たとえば、１つめの量子ビットには$A$という演算子、2つめの演算子には$B$を作用させるという場合には、\n",
    "$$ A \\otimes B$$\n",
    "としてテンソル積演算子が与えられる。\n",
    "$A$と$B$をそれぞれ、2×2の行列とすると、$A\\otimes B$は4×4の行列として\n",
    "$$\n",
    "\\left(\n",
    "\\begin{array}{cc}\n",
    "a_{11} & a_{12}\n",
    "\\\\\n",
    "a_{21} & a_{22}\n",
    "\\end{array}\n",
    "\\right)\n",
    "\\otimes \n",
    "\\left(\n",
    "\\begin{array}{cc}\n",
    "b_{11} & b_{12}\n",
    "\\\\\n",
    "b_{21} & b_{22}\n",
    "\\end{array}\n",
    "\\right)\n",
    "=\n",
    "\\left(\n",
    "\\begin{array}{cccc}\n",
    "a_{11} b_{11} & a_{11} b_{12} & a_{12} b_{11} & a_{12} b_{12}\n",
    "\\\\\n",
    "a_{11} b_{21} & a_{11} b_{22} & a_{12} b_{21} & a_{12} b_{22}\n",
    "\\\\\n",
    "a_{21} b_{11} & a_{21} b_{12} & a_{22} b_{11} & a_{22} b_{12}\n",
    "\\\\\n",
    "a_{21} b_{21} & a_{21} b_{22} & a_{22} b_{21} & a_{22} b_{22}\n",
    "\\end{array}\n",
    "\\right)\n",
    "$$\n",
    "のように計算される。\n",
    "\n",
    "\n",
    "\n",
    "テンソル積状態 \n",
    "$$|\\psi \\rangle \\otimes | \\phi \\rangle $$ \n",
    "に対する作用は、\n",
    "$$ (A|\\psi \\rangle ) \\otimes (B |\\phi \\rangle )$$\n",
    "となり、それぞれの部分系$|\\psi \\rangle$と$|\\phi\\rangle$に$A$と$B$が作用する。\n",
    "足し算に対しては、多項式のように展開してそれぞれの項を作用させればよい。\n",
    "$$\n",
    "(A+C)\\otimes (B+D) |\\psi \\rangle \\otimes | \\phi \\rangle\n",
    "=(A \\otimes B +A \\otimes D + C \\otimes B + C \\otimes D) |\\psi \\rangle \\otimes | \\phi \\rangle\n",
    "\\\\\n",
    "=\n",
    "(A|\\psi \\rangle) \\otimes (B| \\phi \\rangle)\n",
    "+(A|\\psi \\rangle) \\otimes (D| \\phi \\rangle)\n",
    "+(C|\\psi \\rangle) \\otimes (B| \\phi \\rangle)\n",
    "+(C|\\psi \\rangle) \\otimes (D| \\phi \\rangle)\n",
    "$$\n",
    "\n",
    "\n",
    "テンソル積やテンソル積演算子は左右横並びで書いているが、本当は\n",
    "$$\n",
    "\\left(\n",
    "\\begin{array}{c}\n",
    "A\n",
    "\\\\\n",
    "\\otimes \n",
    "\\\\\n",
    "B\n",
    "\\end{array}\n",
    "\\right)\n",
    "\\begin{array}{c}\n",
    "|\\psi \\rangle \n",
    "\\\\\n",
    "\\otimes \n",
    "\\\\\n",
    "|\\phi\\rangle\n",
    "\\end{array}\n",
    "$$\n",
    "のように縦に並べた方がその作用の仕方わかりやすいのかもしれない。\n",
    "\n",
    "CNOT演算を用いた例えばエンタングル状態は、\n",
    "$$\n",
    "\\left(\n",
    "\\begin{array}{c}\n",
    "|0\\rangle \\langle 0|\n",
    "\\\\\n",
    "\\otimes \n",
    "\\\\\n",
    "I\n",
    "\\end{array}\n",
    "+\n",
    "\\begin{array}{c}\n",
    "|1\\rangle \\langle 1|\n",
    "\\\\\n",
    "\\otimes \n",
    "\\\\\n",
    "X\n",
    "\\end{array}\n",
    "\\right)\n",
    "\\left(\n",
    "\\begin{array}{c}\n",
    "\\frac{1}{\\sqrt{2}}(|0\\rangle + |1\\rangle)\n",
    "\\\\\n",
    "\\otimes \n",
    "\\\\\n",
    "|0\\rangle\n",
    "\\end{array}\n",
    "\\right)\n",
    "=\n",
    "\\frac{1}{\\sqrt{2}}\\left(\n",
    "\\begin{array}{c}\n",
    "|0 \\rangle \n",
    "\\\\\n",
    "\\otimes \n",
    "\\\\\n",
    "|0\\rangle\n",
    "\\end{array}\n",
    "+\n",
    "\\begin{array}{c}\n",
    "|1 \\rangle \n",
    "\\\\\n",
    "\\otimes \n",
    "\\\\\n",
    "|1\\rangle\n",
    "\\end{array}\n",
    "\\right)\n",
    "$$\n",
    "のようになる。"
   ]
  },
  {
   "cell_type": "markdown",
   "metadata": {},
   "source": [
    "### SymPyを用いた演算子のテンソル積\n",
    "演算子は何番目の量子ビットに作用するか、というのを指定しているので、すでにテンソル積構造をもっている。"
   ]
  },
  {
   "cell_type": "markdown",
   "metadata": {},
   "source": [
    "`H(0)` は、1量子ビット空間で表示すると"
   ]
  },
  {
   "cell_type": "code",
   "execution_count": 22,
   "metadata": {},
   "outputs": [
    {
     "data": {
      "image/png": "[encoded data removed]",
      "text/latex": [
       "$$\\left[\\begin{matrix}\\frac{1}{\\sqrt{2}} & \\frac{1}{\\sqrt{2}}\\\\\\frac{1}{\\sqrt{2}} & - \\frac{\\sqrt{2}}{2}\\end{matrix}\\right]$$"
      ],
      "text/plain": [
       "⎡1    1  ⎤\n",
       "⎢──   ── ⎥\n",
       "⎢√2   √2 ⎥\n",
       "⎢        ⎥\n",
       "⎢1   -√2 ⎥\n",
       "⎢──  ────⎥\n",
       "⎣√2   2  ⎦"
      ]
     },
     "execution_count": 22,
     "metadata": {},
     "output_type": "execute_result"
    }
   ],
   "source": [
    "represent(H(0),nqubits=1)"
   ]
  },
  {
   "cell_type": "markdown",
   "metadata": {},
   "source": [
    "CNOT演算は、"
   ]
  },
  {
   "cell_type": "code",
   "execution_count": 23,
   "metadata": {},
   "outputs": [
    {
     "data": {
      "image/png": "[encoded data removed]",
      "text/latex": [
       "$$\\left[\\begin{matrix}1 & 0 & 0 & 0\\\\0 & 1 & 0 & 0\\\\0 & 0 & 0 & 1\\\\0 & 0 & 1 & 0\\end{matrix}\\right]$$"
      ],
      "text/plain": [
       "⎡1  0  0  0⎤\n",
       "⎢          ⎥\n",
       "⎢0  1  0  0⎥\n",
       "⎢          ⎥\n",
       "⎢0  0  0  1⎥\n",
       "⎢          ⎥\n",
       "⎣0  0  1  0⎦"
      ]
     },
     "execution_count": 23,
     "metadata": {},
     "output_type": "execute_result"
    }
   ],
   "source": [
    "represent(CNOT(1,0),nqubits=2)"
   ]
  },
  {
   "cell_type": "markdown",
   "metadata": {},
   "source": [
    "2量子ビット空間で表示すると、$I \\otimes H$に対応しており、"
   ]
  },
  {
   "cell_type": "code",
   "execution_count": 24,
   "metadata": {},
   "outputs": [
    {
     "data": {
      "image/png": "[encoded data removed]",
      "text/latex": [
       "$$\\left[\\begin{matrix}\\frac{1}{\\sqrt{2}} & \\frac{1}{\\sqrt{2}} & 0 & 0\\\\\\frac{1}{\\sqrt{2}} & - \\frac{\\sqrt{2}}{2} & 0 & 0\\\\0 & 0 & \\frac{1}{\\sqrt{2}} & \\frac{1}{\\sqrt{2}}\\\\0 & 0 & \\frac{1}{\\sqrt{2}} & - \\frac{\\sqrt{2}}{2}\\end{matrix}\\right]$$"
      ],
      "text/plain": [
       "⎡1    1            ⎤\n",
       "⎢──   ──   0    0  ⎥\n",
       "⎢√2   √2           ⎥\n",
       "⎢                  ⎥\n",
       "⎢1   -√2           ⎥\n",
       "⎢──  ────  0    0  ⎥\n",
       "⎢√2   2            ⎥\n",
       "⎢                  ⎥\n",
       "⎢          1    1  ⎥\n",
       "⎢0    0    ──   ── ⎥\n",
       "⎢          √2   √2 ⎥\n",
       "⎢                  ⎥\n",
       "⎢          1   -√2 ⎥\n",
       "⎢0    0    ──  ────⎥\n",
       "⎣          √2   2  ⎦"
      ]
     },
     "execution_count": 24,
     "metadata": {},
     "output_type": "execute_result"
    }
   ],
   "source": [
    "represent(H(0),nqubits=2)"
   ]
  },
  {
   "cell_type": "markdown",
   "metadata": {},
   "source": [
    "パウリ演算子のテンソル積$X\\otimes Y \\otimes Z$も、"
   ]
  },
  {
   "cell_type": "code",
   "execution_count": 25,
   "metadata": {},
   "outputs": [
    {
     "data": {
      "image/png": "[encoded data removed]",
      "text/latex": [
       "$$\\left[\\begin{matrix}0 & 0 & 0 & - i & 0 & 0 & 0 & 0\\\\0 & 0 & - i & 0 & 0 & 0 & 0 & 0\\\\0 & i & 0 & 0 & 0 & 0 & 0 & 0\\\\i & 0 & 0 & 0 & 0 & 0 & 0 & 0\\\\0 & 0 & 0 & 0 & 0 & 0 & 0 & i\\\\0 & 0 & 0 & 0 & 0 & 0 & i & 0\\\\0 & 0 & 0 & 0 & 0 & - i & 0 & 0\\\\0 & 0 & 0 & 0 & - i & 0 & 0 & 0\\end{matrix}\\right]$$"
      ],
      "text/plain": [
       "⎡0  0  0   -ⅈ  0   0   0  0⎤\n",
       "⎢                          ⎥\n",
       "⎢0  0  -ⅈ  0   0   0   0  0⎥\n",
       "⎢                          ⎥\n",
       "⎢0  ⅈ  0   0   0   0   0  0⎥\n",
       "⎢                          ⎥\n",
       "⎢ⅈ  0  0   0   0   0   0  0⎥\n",
       "⎢                          ⎥\n",
       "⎢0  0  0   0   0   0   0  ⅈ⎥\n",
       "⎢                          ⎥\n",
       "⎢0  0  0   0   0   0   ⅈ  0⎥\n",
       "⎢                          ⎥\n",
       "⎢0  0  0   0   0   -ⅈ  0  0⎥\n",
       "⎢                          ⎥\n",
       "⎣0  0  0   0   -ⅈ  0   0  0⎦"
      ]
     },
     "execution_count": 25,
     "metadata": {},
     "output_type": "execute_result"
    }
   ],
   "source": [
    "represent(X(0)*Y(1)*Z(2),nqubits=3)"
   ]
  },
  {
   "cell_type": "markdown",
   "metadata": {},
   "source": [
    "このようにして、上記のテンソル積のルールを実際にたしかめてみることができる。"
   ]
  },
  {
   "cell_type": "markdown",
   "metadata": {},
   "source": [
    "### アダマールテストと位相推定"
   ]
  },
  {
   "cell_type": "markdown",
   "metadata": {},
   "source": [
    "さて、一通り準備がととのったので、固有値を求める量子アルゴリズムについて解説しよう。まず、アダマールテストとよばれる以下のような量子回路（figure01.pdf）を考える。真ん中にある制御ユニタリ演算$\\Lambda(U)$は、上の量子ビットが$|0\\rangle$の場合にはなにもせず、$|1\\rangle$の場合には$U$を作用させるユニタリ演算である。"
   ]
  },
  {
   "cell_type": "markdown",
   "metadata": {},
   "source": [
    "$$\n",
    "\\Lambda (U) = |0\\rangle \\langle 0| \\otimes I + |1\\rangle \\langle 1|  \\otimes U\n",
    "$$"
   ]
  },
  {
   "cell_type": "markdown",
   "metadata": {},
   "source": [
    "つまり、１つ目の量子ビットが$|0\\rangle$か$|1\\rangle$かによって条件分岐して「なにもしない」、「$U$を作用させる」という演算が実行される。従来のコンピュータでは条件分岐は同時に実行することができないが、量子コンピュータでは重ね合わせとして、同時並列的に実行することができる。"
   ]
  },
  {
   "cell_type": "markdown",
   "metadata": {},
   "source": [
    "さて、アダマールテスの説明に戻ろう。最初は簡単のために量子状態$|\\psi \\rangle$を\n",
    "ユニタリー演算（行列）$U$の固有値$e^{i \\lambda}$の固有状態（固有ベクトル）とする：\n",
    "\\begin{eqnarray}\n",
    "U|\\psi \\rangle = e^{i \\lambda} |\\psi\\rangle.\n",
    "\\end{eqnarray}"
   ]
  },
  {
   "cell_type": "markdown",
   "metadata": {},
   "source": [
    "ステップ1までの計算で\n",
    "\\begin{eqnarray}\n",
    "\\frac{1}{\\sqrt{2}} (|0\\rangle  + |1\\rangle) \\otimes |\\psi  \\rangle \n",
    "\\end{eqnarray}\n",
    "が得られる。\n",
    "ステップ２で制御$U$演算を作用させることによって、\n",
    "**固有値が１つめの量子ビットの相対位相として得られる**（これは位相キックバックとしばしば呼ばれている）:\n",
    "\\begin{eqnarray}\n",
    "&&\\frac{1}{\\sqrt{2}} (|0\\rangle \\otimes |\\psi  \\rangle  \n",
    "+ |1\\rangle \\otimes U|\\psi \\rangle )\n",
    "\\\\\n",
    "&=&\\frac{1}{\\sqrt{2}} (|0\\rangle \\otimes |\\psi  \\rangle  \n",
    "+e^{i \\lambda} |1\\rangle \\otimes |\\psi \\rangle )\n",
    "\\\\\n",
    "&=&\n",
    "\\frac{1}{\\sqrt{2}} (|0\\rangle   \n",
    "+e^{i \\lambda} |1\\rangle )\\otimes |\\psi  \\rangle.\n",
    "\\end{eqnarray}\n",
    "最後のステップ３のアダマール演算によって\n",
    "\\begin{eqnarray}\n",
    "\\left(\\frac{1+e^{i\\lambda}}{2}|0\\rangle  \n",
    "+\\frac{1-e^{i\\lambda}}{2} |1\\rangle \\right)\\otimes |\\psi  \\rangle \n",
    "\\label{eq01}\n",
    "\\end{eqnarray}\n",
    "が得られる。\n",
    "一つ目の量子ビットを測定すると測定結果$m=0,1$を得る確率は\n",
    "\\begin{eqnarray}\n",
    "p_{m}=\\left|\\frac{1+(-1)^m e^{i\\lambda}}{2}\\right|^2 =\\frac{1+(-1)^m \\cos \\lambda}{2}\n",
    "\\end{eqnarray}\n",
    "となる\n",
    "$|\\psi \\rangle$、$U$、$\\langle \\psi |$は\n",
    "それぞれ$2^n$次元の列ベクトル、$2^n \\times 2^n$行列、\n",
    "$2^n$次元の行ベクトルなので、\n",
    "このアダマールテストを古典コンピュータ上で愚直に計算すると\n",
    "指数的に大きなメモリーの確保と演算回数が必要になる。\n",
    "一方で、量子コンピューターでは、\n",
    "確率分布$p_m$のもとで$m$がサンプルされる。\n",
    "$\\cos \\lambda$を\n",
    "ある誤差$\\epsilon$で推定したい場合は、\n",
    "その逆数$1/\\epsilon$の多項式回程度サンプルすればよいことになる。"
   ]
  },
  {
   "cell_type": "markdown",
   "metadata": {},
   "source": [
    "さらに、固有値が$\\pm 1$の場合にはこのアダマールテストによって、固有ベクトルを得ることができる。たとえば、$U=H$の場合を考えてみよう。補助量子ビットを$|0\\rangle$、アダマールテストの入力$|\\psi\\rangle$も$|0\\rangle$とする。"
   ]
  },
  {
   "cell_type": "code",
   "execution_count": 26,
   "metadata": {},
   "outputs": [],
   "source": [
    "state = Qubit('00')"
   ]
  },
  {
   "cell_type": "markdown",
   "metadata": {},
   "source": [
    "制御H演算は、`CGateS()`を用いて"
   ]
  },
  {
   "cell_type": "code",
   "execution_count": 27,
   "metadata": {},
   "outputs": [
    {
     "data": {
      "image/png": "[encoded data removed]",
      "text/latex": [
       "$$\\left[\\begin{matrix}1 & 0 & 0 & 0\\\\0 & 1 & 0 & 0\\\\0 & 0 & \\frac{\\sqrt{2}}{2} & \\frac{1}{\\sqrt{2}}\\\\0 & 0 & \\frac{1}{\\sqrt{2}} & - \\frac{\\sqrt{2}}{2}\\end{matrix}\\right]$$"
      ],
      "text/plain": [
       "⎡1  0  0    0  ⎤\n",
       "⎢              ⎥\n",
       "⎢0  1  0    0  ⎥\n",
       "⎢              ⎥\n",
       "⎢      √2   1  ⎥\n",
       "⎢0  0  ──   ── ⎥\n",
       "⎢      2    √2 ⎥\n",
       "⎢              ⎥\n",
       "⎢      1   -√2 ⎥\n",
       "⎢0  0  ──  ────⎥\n",
       "⎣      √2   2  ⎦"
      ]
     },
     "execution_count": 27,
     "metadata": {},
     "output_type": "execute_result"
    }
   ],
   "source": [
    "from sympy.physics.quantum.gate import CGateS\n",
    "ctrlH = CGateS(1,H(0))\n",
    "represent(ctrlH,nqubits=2)"
   ]
  },
  {
   "cell_type": "markdown",
   "metadata": {},
   "source": [
    "測定前の状態は、"
   ]
  },
  {
   "cell_type": "code",
   "execution_count": 28,
   "metadata": {},
   "outputs": [
    {
     "data": {
      "image/png": "[encoded data removed]",
      "text/latex": [
       "$$H_{1} C_{1}{\\left(H_{0}\\right)} H_{1} {\\left|00\\right\\rangle }$$"
      ],
      "text/plain": [
       "H ⋅C ⎛H ⎞⋅H ⋅❘00⟩\n",
       " 1  1⎝ 0⎠  1     "
      ]
     },
     "execution_count": 28,
     "metadata": {},
     "output_type": "execute_result"
    }
   ],
   "source": [
    "H(1)*ctrlH*H(1)*state"
   ]
  },
  {
   "cell_type": "code",
   "execution_count": 29,
   "metadata": {},
   "outputs": [
    {
     "data": {
      "image/png": "[encoded data removed]",
      "text/latex": [
       "$$\\frac{\\sqrt{2}}{4} {\\left|00\\right\\rangle } + \\frac{{\\left|00\\right\\rangle }}{2} + \\frac{\\sqrt{2}}{4} {\\left|01\\right\\rangle } - \\frac{\\sqrt{2}}{4} {\\left|10\\right\\rangle } + \\frac{{\\left|10\\right\\rangle }}{2} - \\frac{\\sqrt{2}}{4} {\\left|11\\right\\rangle }$$"
      ],
      "text/plain": [
       "√2⋅❘00⟩   ❘00⟩   √2⋅❘01⟩   √2⋅❘10⟩   ❘10⟩   √2⋅❘11⟩\n",
       "─────── + ──── + ─────── - ─────── + ──── - ───────\n",
       "   4       2        4         4       2        4   "
      ]
     },
     "execution_count": 29,
     "metadata": {},
     "output_type": "execute_result"
    }
   ],
   "source": [
    "qapply(H(1)*ctrlH*H(1)*state)"
   ]
  },
  {
   "cell_type": "markdown",
   "metadata": {},
   "source": [
    "測定は、測定用の関数が用意されており、１つめの量子ビットの測定は`measure_partial`を用いて得ることができる。`measure_partial`では測定後の状態と測定の確率がリストとして出力される。１つめの量子ビットが0だった場合の量子状態は[0][0]要素を参照すればよいので、"
   ]
  },
  {
   "cell_type": "code",
   "execution_count": 30,
   "metadata": {},
   "outputs": [
    {
     "data": {
      "image/png": "[encoded data removed]",
      "text/latex": [
       "$$\\frac{1}{2 \\sqrt{\\sqrt{2} + 2}} \\left(\\left(\\sqrt{2} + 2\\right) {\\left|00\\right\\rangle } + \\sqrt{2} {\\left|01\\right\\rangle }\\right)$$"
      ],
      "text/plain": [
       "(√2 + 2)⋅❘00⟩ + √2⋅❘01⟩\n",
       "───────────────────────\n",
       "          ________     \n",
       "      2⋅╲╱ √2 + 2      "
      ]
     },
     "execution_count": 30,
     "metadata": {},
     "output_type": "execute_result"
    }
   ],
   "source": [
    "from sympy.physics.quantum.qubit import measure_all, measure_partial, measure_all_oneshot, measure_partial_oneshot\n",
    "measured_state_zero = measure_partial(qapply(H(1)*ctrlH*H(1)*state),(1))[0][0]\n",
    "simplify(measured_state_zero)"
   ]
  },
  {
   "cell_type": "markdown",
   "metadata": {},
   "source": [
    "これがHの固有ベクトルであることは、２つめの量子ビットにHを作用させると（sumpyのインデックスは１つめが1、２つめが0になるよう対応させていることに注意）、"
   ]
  },
  {
   "cell_type": "code",
   "execution_count": 31,
   "metadata": {},
   "outputs": [
    {
     "data": {
      "image/png": "[encoded data removed]",
      "text/latex": [
       "$$\\frac{1}{2 \\sqrt{\\sqrt{2} + 2}} \\left(\\sqrt{2} {\\left|00\\right\\rangle } + 2 {\\left|00\\right\\rangle } + \\sqrt{2} {\\left|01\\right\\rangle }\\right)$$"
      ],
      "text/plain": [
       "√2⋅❘00⟩ + 2⋅❘00⟩ + √2⋅❘01⟩\n",
       "──────────────────────────\n",
       "           ________       \n",
       "       2⋅╲╱ √2 + 2        "
      ]
     },
     "execution_count": 31,
     "metadata": {},
     "output_type": "execute_result"
    }
   ],
   "source": [
    "simplify(qapply(H(0)*measured_state_zero))"
   ]
  },
  {
   "cell_type": "markdown",
   "metadata": {},
   "source": [
    "となりもとに戻る。固有状態であることがわかった。同様に1の測定結果を得た場合は、固有値-1の固有状態であることも確認できるので試してもらいたい。"
   ]
  },
  {
   "cell_type": "code",
   "execution_count": 30,
   "metadata": {},
   "outputs": [
    {
     "data": {
      "image/png": "[encoded data removed]",
      "text/latex": [
       "$$\\frac{1}{2 \\sqrt{- \\sqrt{2} + 2}} \\left(- 2 {\\left|10\\right\\rangle } + \\sqrt{2} {\\left|10\\right\\rangle } + \\sqrt{2} {\\left|11\\right\\rangle }\\right)$$"
      ],
      "text/plain": [
       "-2⋅❘10⟩ + √2⋅❘10⟩ + √2⋅❘11⟩\n",
       "───────────────────────────\n",
       "           _________       \n",
       "       2⋅╲╱ -√2 + 2        "
      ]
     },
     "execution_count": 30,
     "metadata": {},
     "output_type": "execute_result"
    }
   ],
   "source": [
    "measured_state_one = measure_partial(qapply(H(1)*ctrlH*H(1)*state),(1,))[1][0]\n",
    "simplify(qapply(H(0)*measured_state_one))"
   ]
  },
  {
   "cell_type": "markdown",
   "metadata": {},
   "source": [
    "固有値が$\\pm 1$ではない場合も、アダマールテストの出力を入力として繰り返すと$U$の固有状態に状態が収束していくので、興味がある人は試してもらいたい。"
   ]
  },
  {
   "cell_type": "markdown",
   "metadata": {},
   "source": [
    "　同じ計算を、必ずしも固有ベクトルとは限らない、一般の入力に対して行うと、測定前の状態は、\n",
    "$$\n",
    " |0\\rangle \\frac{I+U}{2} |\\psi \\rangle  +  |1\\rangle  \\frac{I-U}{2} |\\psi \\rangle \n",
    "$$\n",
    "となり、0もしくは1が得られる確率は、\n",
    "$$\n",
    "p_0 = \\frac{1+ {\\rm Re} \\langle \\psi | U | \\psi \\rangle }{2}\n",
    "\\\\\n",
    "p_1 = \\frac{1- {\\rm Re} \\langle \\psi | U | \\psi \\rangle }{2}\n",
    "$$\n",
    "となる。つまり、ベクトル$|\\psi \\rangle$でユニタリ行列Uを挟んだ値をアダマールテストのサンプル結果の推定から\n",
    "計算することができる。もちろん、量子ビット数$n$が大きくなるにつれベクトルや行列の次元は指数的に大きくなるので、愚直に計算する方法は指数的な時間を要する。\n"
   ]
  },
  {
   "cell_type": "markdown",
   "metadata": {},
   "source": [
    "　さっきの$U=H$の例だと、$\\langle 0 | H | 0\\rangle = 1/\\sqrt{2}$であるが実際、`measure_partial`で得られる確率をみてみると、"
   ]
  },
  {
   "cell_type": "code",
   "execution_count": 31,
   "metadata": {},
   "outputs": [
    {
     "data": {
      "image/png": "[encoded data removed]",
      "text/latex": [
       "$$\\frac{\\sqrt{2}}{4} + \\frac{1}{2}$$"
      ],
      "text/plain": [
       "√2   1\n",
       "── + ─\n",
       "4    2"
      ]
     },
     "execution_count": 31,
     "metadata": {},
     "output_type": "execute_result"
    }
   ],
   "source": [
    "simplify(measure_partial(qapply(H(1)*ctrlH*H(1)*state),(1,))[0][1])"
   ]
  },
  {
   "cell_type": "markdown",
   "metadata": {},
   "source": [
    "となっており、上記の議論と一致していることが確認できる。"
   ]
  },
  {
   "cell_type": "markdown",
   "metadata": {},
   "source": [
    "### 位相推定アルゴリズム"
   ]
  },
  {
   "cell_type": "markdown",
   "metadata": {},
   "source": [
    "　最終目標である位相推定アルゴリズムについて紹介する。上記のアダマールテストをより精度が良くなるように、測定側の量子ビットを拡張したのが、Kitaevによって提案された位相推定アルゴリズムである。詳細はともかく、どのような操作ができるアルゴリズムなのかを、まず紹介しよう。\n",
    "　$U$を量子回路として構成できる一般的なユニタリ行列とする。$U$の固有ベクトルと$|{\\rm eigen} _i \\rangle$とし、対応する固有値を$|\\lambda _i \\rangle$とする。ある一般的な量子状態$|\\psi\\rangle$が与えられたとする。これは必ず固有ベクトルで展開できる：\n",
    "$$\n",
    "|\\psi \\rangle = \\sum _i c_i |{\\rm eigen}_i \\rangle\n",
    "$$\n",
    "もちろん具体的にc_iがどのような値になるかはわからなくてよい。このとき位相推定アルゴリズムは、$r$個の補助量子ビットを用いて、入力状態\n",
    "$$\n",
    "|00...0\\rangle | \\psi \\rangle\n",
    "$$\n",
    "を、\n",
    "$$\n",
    "\\sum _i c_i |\\lambda_i \\rangle | {\\rm eigen_i} \\rangle \n",
    "$$\n",
    "へと変換するアルゴリズムのことである。重ね合わせの中にあるそれぞれの固有ベクトルに対応した固有値を$r$個の補助量子ビットへと取り出すアルゴリズムになっている。この状態に対して測定をすると、確率 \n",
    "$$\n",
    "p_i = |c_i |^2\n",
    "$$\n",
    "で、どれか一つの固有ベクトルとその固有値が乱拓される。このアルゴリズムは、素因数分解や分子などのエネルギー計算のための量子化学アルゴリズム、そしてその他多くのアルゴリズムのサブルーチンとして利用されていおり、量子コンピュータが従来コンピュータよりも指数的に高速に特定の問題において解を得られる（と期待されている）最も重要な例である。\n"
   ]
  },
  {
   "cell_type": "markdown",
   "metadata": {},
   "source": [
    "　以下では、入力状態を固有状態$|{\\rm eigen}\\rangle$とその固有値$\\lambda$に限定して、位相推定アルゴリズムを説明していくことにする。しかし、線形和をとっても全く同じ議論が使えるので一般性は失われていない。 アダマールテストでは1つしか測定用の量子ビットを使わなかった。位相推定では、測定用の補助量子ビットとして$r$個の量子ビットを確保する。\n",
    "図（figure02.pdf）のように$r$個の量子ビットを用いて、\n",
    "アダマールテストと同様に制御ユニタリー演算をさよう。\n",
    "ただし、$k$番目（$k=0,1,...,r-1$）の補助量子ビットは制御$U^{2^k}$演算\n",
    "をすることにする。\n",
    "ユニタリー演算$U$の固有値の位相$\\lambda$を$r$ビットの２進小数を用いて\n",
    "\\begin{eqnarray}\n",
    "\\lambda = (2\\pi) 0.j_1 j_2...j_r\n",
    "\\end{eqnarray}\n",
    "と書いておく。２進小数は$0.1=1/2、0.01=1/4、0.11=3/4$のように１未満の実数をビット列で表示したものだ。\n",
    "アダマールテストと同様に\n",
    "$k$番目のプローブ量子ビットには$e^{i \\lambda 2^k}$\n",
    "の位相が獲得される（位相キックバック）ので\n",
    "\\begin{eqnarray}\n",
    "\\bigotimes _{k=0}^{r-1} \\frac{|0\\rangle + e^{i (2\\pi)0.j_{r-k}...j_r} |1\\rangle }{\\sqrt{2}}\n",
    "\\otimes |{\\rm eigen} \\rangle\n",
    "\\end{eqnarray}\n",
    "のような状態が得られていることになる。\n",
    "固有値の位相が２進数小数表示で1ビットずつシフトしたものが\n",
    "各プローブ量子ビットに格納されている。\n",
    "この$r$個のプローブ量子ビットに対してフーリエ変換（の逆）の量子版、逆量子フーリエ変換\n",
    "\\begin{eqnarray}\n",
    "\\bigotimes _{k=0}^{r-1} \\frac{|0\\rangle + e^{i (2\\pi)0.j_{r-k}...j_r} |1\\rangle }{\\sqrt{2}}\n",
    "\\rightarrow |j_1...j_r\\rangle\n",
    "\\end{eqnarray}\n",
    "を作用させると、プローブ量子ビットに\n",
    "ビット列 $j_1...j_r$ が得られ、位相の２進小数が得られる。\n",
    "これが位相推定アルゴリズムである。逆量子フーリエ変換の構成方法については例題でみていくことにする。"
   ]
  },
  {
   "cell_type": "markdown",
   "metadata": {},
   "source": [
    "　SymPyで具体例を見ていこう。T演算とS演算を用いて以下のような4×4行列をつくる。"
   ]
  },
  {
   "cell_type": "code",
   "execution_count": 34,
   "metadata": {},
   "outputs": [
    {
     "data": {
      "image/png": "[encoded data removed]",
      "text/latex": [
       "$$\\left[\\begin{matrix}1 & 0 & 0 & 0\\\\0 & e^{\\frac{i \\pi}{4}} & 0 & 0\\\\0 & 0 & i & 0\\\\0 & 0 & 0 & i e^{\\frac{i \\pi}{4}}\\end{matrix}\\right]$$"
      ],
      "text/plain": [
       "⎡1   0    0    0   ⎤\n",
       "⎢                  ⎥\n",
       "⎢    ⅈ⋅π           ⎥\n",
       "⎢    ───           ⎥\n",
       "⎢     4            ⎥\n",
       "⎢0  ℯ     0    0   ⎥\n",
       "⎢                  ⎥\n",
       "⎢0   0    ⅈ    0   ⎥\n",
       "⎢                  ⎥\n",
       "⎢               ⅈ⋅π⎥\n",
       "⎢               ───⎥\n",
       "⎢                4 ⎥\n",
       "⎣0   0    0  ⅈ⋅ℯ   ⎦"
      ]
     },
     "execution_count": 34,
     "metadata": {},
     "output_type": "execute_result"
    }
   ],
   "source": [
    "represent(T(0)*S(1),nqubits = 2)"
   ]
  },
  {
   "cell_type": "markdown",
   "metadata": {},
   "source": [
    "すでに対角化されており、固有値の位相の２進数表示は、0.0,0.001,0.01,0.011,であり３つの補助量子ビットが必要である。` CGates ` を用いてこれを制御化した ` cP_2,3,4 `を定義しよう。（2,3,4が３つの補助量子ビットに対応している。）"
   ]
  },
  {
   "cell_type": "code",
   "execution_count": 35,
   "metadata": {},
   "outputs": [],
   "source": [
    "cP_2 = CGateS(2,T(0))*CGateS(2,S(1))\n",
    "cP_3 = CGateS(3,T(0))*CGateS(3,S(1))\n",
    "cP_4 = CGateS(4,T(0))*CGateS(4,S(1))"
   ]
  },
  {
   "cell_type": "markdown",
   "metadata": {},
   "source": [
    "３つの補助量子ビットを用いて、位相推定アルゴリズムを構成していこう。"
   ]
  },
  {
   "cell_type": "code",
   "execution_count": 36,
   "metadata": {},
   "outputs": [
    {
     "data": {
      "image/png": "[encoded data removed]",
      "text/latex": [
       "$$H_{4} H_{3} H_{2}$$"
      ],
      "text/plain": [
       "H ⋅H ⋅H \n",
       " 4  3  2"
      ]
     },
     "execution_count": 36,
     "metadata": {},
     "output_type": "execute_result"
    }
   ],
   "source": [
    "PhaEst = H(4)*H(3)*H(2)\n",
    "PhaEst"
   ]
  },
  {
   "cell_type": "markdown",
   "metadata": {},
   "source": [
    "制御ユニタリーをそれぞれ、1回、２回、４回と作用させていく。"
   ]
  },
  {
   "cell_type": "code",
   "execution_count": 37,
   "metadata": {},
   "outputs": [],
   "source": [
    "PhaEst = cP_2*cP_3*cP_3*cP_4*cP_4*cP_4*cP_4*PhaEst"
   ]
  },
  {
   "cell_type": "markdown",
   "metadata": {},
   "source": [
    "まず、補助量子ビット4には、位相キックバックが4=2^2回作用しているので、２進小数の第3位が小数第1位まで桁上がりしている。ここら逆量子フーリエ変換に対応するところを構築する。目標は位相には行ったビット列を、直接量子ビット列として取り出すような変換をすることである。小数第3位については簡単である。すでに補助量子ビット4の位相に小数第１として出現している（４回作用させたので小数点が２つシフトした）。よって、H演算を作用させて測定すれば小数第3位が0か1が補助量子ビット4に取り出されることになる。"
   ]
  },
  {
   "cell_type": "code",
   "execution_count": 38,
   "metadata": {},
   "outputs": [],
   "source": [
    "PhaEst = H(4)*PhaEst"
   ]
  },
  {
   "cell_type": "markdown",
   "metadata": {},
   "source": [
    "補助量子ビット3は、小数第２位が小数第１位まで桁上がりしている。また、小数第2位には第3位が残っている。この小数第3位を消すために、補助量子ビット4から制御$SZ=S^{-1}$演算を作用させる。"
   ]
  },
  {
   "cell_type": "code",
   "execution_count": 39,
   "metadata": {},
   "outputs": [],
   "source": [
    "PhaEst = CGateS(4,S(3))*PhaEst\n",
    "PhaEst = CGateS(4,Z(3))*PhaEst"
   ]
  },
  {
   "cell_type": "markdown",
   "metadata": {},
   "source": [
    "小数第1位だけに小数第2位が格納させているので、H演算をして0もしくは1として直接取り出すことができる。"
   ]
  },
  {
   "cell_type": "code",
   "execution_count": 40,
   "metadata": {},
   "outputs": [],
   "source": [
    "PhaEst = H(3)*PhaEst"
   ]
  },
  {
   "cell_type": "markdown",
   "metadata": {},
   "source": [
    "最後に補助量子ビット2には、小数第1位から3位までそのまま入っているので、補助量子ビット、3,4をつかって、第1位以外を消す操作をさっきと同様に行う。"
   ]
  },
  {
   "cell_type": "code",
   "execution_count": 41,
   "metadata": {},
   "outputs": [],
   "source": [
    "PhaEst = CGateS(3,S(2))*PhaEst\n",
    "PhaEst = CGateS(3,Z(2))*PhaEst"
   ]
  },
  {
   "cell_type": "code",
   "execution_count": 42,
   "metadata": {},
   "outputs": [],
   "source": [
    "PhaEst = CGateS(4,T(2))*PhaEst\n",
    "PhaEst = CGateS(4,S(2))*PhaEst\n",
    "PhaEst = CGateS(4,Z(2))*PhaEst\n",
    "PhaEst = H(2)*PhaEst"
   ]
  },
  {
   "cell_type": "markdown",
   "metadata": {},
   "source": [
    "以上のように、帰納的に小数第1位しか残らないように量子演算を作用させて第2位以降をキャンセルし、H演算によってビット列をとりだすサブルーチンが逆量子フーリエ変換である。"
   ]
  },
  {
   "cell_type": "markdown",
   "metadata": {},
   "source": [
    "このように構成した位相推定アルゴリズムを固有ベクトルに作用させてみよう。アルゴリズム自体は非常に複雑だ。"
   ]
  },
  {
   "cell_type": "code",
   "execution_count": 43,
   "metadata": {},
   "outputs": [
    {
     "data": {
      "image/png": "[encoded data removed]",
      "text/latex": [
       "$$H_{2} C_{4}{\\left(Z_{2}\\right)} C_{4}{\\left(S_{2}\\right)} C_{4}{\\left(T_{2}\\right)} C_{3}{\\left(Z_{2}\\right)} C_{3}{\\left(S_{2}\\right)} H_{3} C_{4}{\\left(Z_{3}\\right)} C_{4}{\\left(S_{3}\\right)} H_{4} C_{2}{\\left(T_{0}\\right)} C_{2}{\\left(S_{1}\\right)} C_{3}{\\left(T_{0}\\right)} C_{3}{\\left(S_{1}\\right)} C_{3}{\\left(T_{0}\\right)} C_{3}{\\left(S_{1}\\right)} C_{4}{\\left(T_{0}\\right)} C_{4}{\\left(S_{1}\\right)} C_{4}{\\left(T_{0}\\right)} C_{4}{\\left(S_{1}\\right)} C_{4}{\\left(T_{0}\\right)} C_{4}{\\left(S_{1}\\right)} C_{4}{\\left(T_{0}\\right)} C_{4}{\\left(S_{1}\\right)} H_{4} H_{3} H_{2}$$"
      ],
      "text/plain": [
       "H ⋅C ⎛Z ⎞⋅C ⎛S ⎞⋅C ⎛T ⎞⋅C ⎛Z ⎞⋅C ⎛S ⎞⋅H ⋅C ⎛Z ⎞⋅C ⎛S ⎞⋅H ⋅C ⎛T ⎞⋅C ⎛S ⎞⋅C ⎛T ⎞\n",
       " 2  4⎝ 2⎠  4⎝ 2⎠  4⎝ 2⎠  3⎝ 2⎠  3⎝ 2⎠  3  4⎝ 3⎠  4⎝ 3⎠  4  2⎝ 0⎠  2⎝ 1⎠  3⎝ 0⎠\n",
       "\n",
       "⋅C ⎛S ⎞⋅C ⎛T ⎞⋅C ⎛S ⎞⋅C ⎛T ⎞⋅C ⎛S ⎞⋅C ⎛T ⎞⋅C ⎛S ⎞⋅C ⎛T ⎞⋅C ⎛S ⎞⋅C ⎛T ⎞⋅C ⎛S ⎞⋅\n",
       "  3⎝ 1⎠  3⎝ 0⎠  3⎝ 1⎠  4⎝ 0⎠  4⎝ 1⎠  4⎝ 0⎠  4⎝ 1⎠  4⎝ 0⎠  4⎝ 1⎠  4⎝ 0⎠  4⎝ 1⎠ \n",
       "\n",
       "H ⋅H ⋅H \n",
       " 4  3  2"
      ]
     },
     "execution_count": 43,
     "metadata": {},
     "output_type": "execute_result"
    }
   ],
   "source": [
    "PhaEst"
   ]
  },
  {
   "cell_type": "markdown",
   "metadata": {},
   "source": [
    "しかし実際、入力に作用させると、"
   ]
  },
  {
   "cell_type": "code",
   "execution_count": 45,
   "metadata": {},
   "outputs": [
    {
     "data": {
      "image/png": "[encoded data removed]",
      "text/latex": [
       "$${\\left|11011\\right\\rangle }$$"
      ],
      "text/plain": [
       "❘11011⟩"
      ]
     },
     "execution_count": 45,
     "metadata": {},
     "output_type": "execute_result"
    }
   ],
   "source": [
    "simplify(qapply(PhaEst*Qubit(\"00011\")))"
   ]
  },
  {
   "cell_type": "markdown",
   "metadata": {},
   "source": [
    "のように設計通り単純な解が得られることが確認できる。実際、補助量子ビット2,3,4にそれぞれ、011が得られたので固有値の位相の２進小数0.011が得られている！他の入力に対しても、"
   ]
  },
  {
   "cell_type": "code",
   "execution_count": 46,
   "metadata": {},
   "outputs": [
    {
     "data": {
      "image/png": "[encoded data removed]",
      "text/latex": [
       "$${\\left|00000\\right\\rangle }$$"
      ],
      "text/plain": [
       "❘00000⟩"
      ]
     },
     "execution_count": 46,
     "metadata": {},
     "output_type": "execute_result"
    }
   ],
   "source": [
    "simplify(qapply(PhaEst*Qubit(\"00000\")))"
   ]
  },
  {
   "cell_type": "code",
   "execution_count": 47,
   "metadata": {},
   "outputs": [
    {
     "data": {
      "image/png": "[encoded data removed]",
      "text/latex": [
       "$${\\left|01010\\right\\rangle }$$"
      ],
      "text/plain": [
       "❘01010⟩"
      ]
     },
     "execution_count": 47,
     "metadata": {},
     "output_type": "execute_result"
    }
   ],
   "source": [
    "simplify(qapply(PhaEst*Qubit(\"00010\")))"
   ]
  },
  {
   "cell_type": "code",
   "execution_count": 48,
   "metadata": {},
   "outputs": [
    {
     "data": {
      "image/png": "[encoded data removed]",
      "text/latex": [
       "$${\\left|10001\\right\\rangle }$$"
      ],
      "text/plain": [
       "❘10001⟩"
      ]
     },
     "execution_count": 48,
     "metadata": {},
     "output_type": "execute_result"
    }
   ],
   "source": [
    "simplify(qapply(PhaEst*Qubit(\"00001\")))"
   ]
  },
  {
   "cell_type": "markdown",
   "metadata": {},
   "source": [
    "のように、４種類の固有値の位相情報が３つの補助量子ビットに得られた。入力状態が、重ね合わせ状態の場合は、"
   ]
  },
  {
   "cell_type": "code",
   "execution_count": 49,
   "metadata": {},
   "outputs": [
    {
     "data": {
      "image/png": "[encoded data removed]",
      "text/latex": [
       "$$\\frac{1}{2} \\left({\\left|00000\\right\\rangle } + {\\left|01010\\right\\rangle } + {\\left|10001\\right\\rangle } + {\\left|11011\\right\\rangle }\\right)$$"
      ],
      "text/plain": [
       "❘00000⟩ + ❘01010⟩ + ❘10001⟩ + ❘11011⟩\n",
       "─────────────────────────────────────\n",
       "                  2                  "
      ]
     },
     "execution_count": 49,
     "metadata": {},
     "output_type": "execute_result"
    }
   ],
   "source": [
    "simplify(qapply(PhaEst*H(0)*H(1)*Qubit(\"00000\")))"
   ]
  },
  {
   "cell_type": "markdown",
   "metadata": {},
   "source": [
    "のように、それぞれの固有ベクトルに対して、固有値の位相が３つの補助量子ビットへと重ね合わせのまま取り出されている。補助量子ビットを測定すると、確率的に、どれか一つの固有ベクトルと固有値が得られる。簡単のためあらかじめ対角化された4×4行列の位相推定を構成したが、もちろん一般のユニタリ$U$に対して動作する。\n",
    "\n",
    "### 素因数分解と位相推定\n",
    "\n",
    "位相推定の最も重要な応用の一つである素因数分解アルゴリズムを紹介する．\n",
    "素因数分解問題は$n$桁の整数$N$が与えられた時に$N$の1ではない約数を\n",
    "見つける問題であり，従来のコンピュータでは多項式時間で解けるアルゴルズムは\n",
    "見つかっていない．現在のベストアルゴリズムの計算コストは，\n",
    "\\begin{eqnarray}\n",
    "O(\\exp \\left[\\frac{64}{9} n (\\log n )^2 \\right]^{1/3})\n",
    "\\end{eqnarray}\n",
    "であり，準指数的な計算時間がかかる．\n",
    "このような素因数分解問題の難しさを利用した暗号RSA暗号などが日常的にも使われている．\n",
    "\n",
    "P. Shorは1994年に，\n",
    "量子コンピュータを用いることによって素因数分解問題が桁数$n$に対して多項式時間で解くことができる\n",
    "ことを示した．これがいわゆるShorの素因数分解アルゴリズムである．\n",
    "\n",
    "$N$を素因数分解したい整数だとしよう．\n",
    "$N$と互いに素な整数$x$を見つけてくる．\n",
    "適当に$x$を選んできて，ユークリッドの互除法によって\n",
    "最大公約数を計算し，1以外の整数であれば非自明な約数がみつかったことになり，\n",
    "1しかなければ互いに素な整数であることになる．\n",
    "この$N$と$x$から公約数を見つけるために，位数$r$を求めることになる．\n",
    "位数$r$とは，\n",
    "\\begin{eqnarray}\n",
    "x^r = 1 \\textrm{ (mod $N$)}\n",
    "\\label{eq:factor}\n",
    "\\end{eqnarray}\n",
    "を満たす最小の整数である．\n",
    "ランダムに$x$を選ぶと，高い確率で$r$は偶数になることが知られている．\n",
    "$r$が偶数であると，\n",
    "(\\ref{eq:factor})式から\n",
    "\\begin{eqnarray}\n",
    "(x^{r/2} + 1) (x^{r/2} - 1)  \\equiv 0  \\textrm{ (mod $N$)}\n",
    "\\end{eqnarray}\n",
    "のように変形することができる．\n",
    "このとき，$x^{r/2} + 1$もしくは$x^{r/2} - 1$\n",
    "の積が mod $N$ で0なので，$x^{r/2} + 1 = 0 \\textrm{ (mod $N$)}$になるか，\n",
    "$x^{r/2} + 1$と$x^{r/2} - 1$が$N$と非自明な公約数をもつかのどちらかになる．\n",
    "$x$をランダムに選ぶと後者の確率が十分高いことも示すことができ，\n",
    "最終的に非自明な公約数が見つかることになる．\n",
    "これを繰り返していくことによって，素数因数へと分解することができる．\n",
    "\n",
    "　素因数分解の鍵となる位数$r$は、実は入力yをmod Nのもとでx倍するという古典計算に対応したユニタリ行列\n",
    "$$\n",
    "U_x = \\sum _y |yx {\\rm (mod N)}\\rangle \\langle y|\n",
    "$$\n",
    "の固有値を求めることによって決定することができる。実際、固有状態のラベル$0 \\leq s \\leq r-1$を用いて，固有ベクトルは \n",
    "$$\n",
    "|u_s\\rangle = \\frac{1}{\\sqrt{r}}\n",
    "\\sum _{k=0}^{r-1} e^ {-2 \\pi i (s/r) k }|x^k \\textrm{ (mod $N$)}\\rangle.\n",
    "$$\n",
    "と書き下すことができ、\n",
    "$$\n",
    "U_x |u_s \\rangle =  e^{2 \\pi i (s/r)} |u_s \\rangle\n",
    "$$\n",
    "を満たす。つめり固有値の位相推定から$s/r$を求めその分母として$r$を得ることができる。これがいわゆる、ショアによる素因数分解アルゴリズム（キタエフの位相推定を利用したバージョン）である。"
   ]
  },
  {
   "cell_type": "markdown",
   "metadata": {},
   "source": [
    "### まとめ\n",
    "ここでは、SymPyの代数処理機能を用いて、量子力学、特にテンソル積の代数を実際に手を動かしながら確認してきた。簡単な系であれば、このように直接状態をシンボルとして書き出すことができるので、計算の確認などに便利である。そして、SymPyを用いながら、もっとも重要な量子アルゴリズムの一つである位相推定アルゴリズムを紹介した。位相推定アルゴリズムは、あるユニタリ行列$U$の固有値を補助量子ビットに取り出すことができる量子アルゴリズムである。素因数分解は、この位相推定アルゴリズムによって、位数という数字を推定することによって解くことができる。また、量子力学においてエネルギーはハミルトニアンと呼ばれる行列の固有値によって与えられる。もっとも安定的な状態のエネルギーはもっとも小さい値の固有値、安定な状態は対応する固有ベクトルで与えられる。ハミルトニアン自体はユニタリー行列ではないので、行列の指数関数で定義される時間発展に対応するユニタリ行列$e^{-i H t}$に対して位相推定を行うことによって、エネルギーを計算することができる。ほかにも、位相推定による固有値の取り出しを用いて、線形連立方程式の解法や、その機械学習への応用が研究されている。"
   ]
  },
  {
   "cell_type": "code",
   "execution_count": null,
   "metadata": {},
   "outputs": [],
   "source": []
  }
 ],
 "metadata": {
  "kernelspec": {
   "display_name": "Python 3",
   "language": "python",
   "name": "python3"
  },
  "language_info": {
   "codemirror_mode": {
    "name": "ipython",
    "version": 3
   },
   "file_extension": ".py",
   "mimetype": "text/x-python",
   "name": "python",
   "nbconvert_exporter": "python",
   "pygments_lexer": "ipython3",
   "version": "3.6.0"
  }
 },
 "nbformat": 4,
 "nbformat_minor": 2
}
