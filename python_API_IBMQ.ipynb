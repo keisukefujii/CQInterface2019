{
 "cells": [
  {
   "cell_type": "markdown",
   "metadata": {},
   "source": [
    "# IBM Q をpython API から使う\n",
    "IBM Qをウェブブラウザー上で使うのは不便。とくに何回も量子コンピュータにjobを投げるような場合には特に不便。自動でjobを投げれるような API (application programing interface:アプリケーションプログラミングインターフェイス）が用意されている。\n",
    "\n",
    "参照：qiskidのgithub\n",
    "https://github.com/QISKit/qiskit-api-py\n",
    "\n",
    "APIトークン（IBMQのアカウントの認証のようなもの）をインポートする。Qconfig.pyのなかに、自分のアカウントから生成したトークンをコピペする。このトークンが人に知られるとアカウントが使えるてしまうので注意する。"
   ]
  },
  {
   "cell_type": "markdown",
   "metadata": {},
   "source": [
    "（ステップ1）APIを使うためにモジュールをインポート\n",
    "\n",
    "```\n",
    "pip install IBMquantumExperience\n",
    "```"
   ]
  },
  {
   "cell_type": "markdown",
   "metadata": {},
   "source": [
    "（ステップ２）このjupyter notebookと同じフォルダに Qconfig.py, Qconfig.pycを置く\n",
    "\n",
    "（ステップ３）IBM Qのサイトに行ってログンイン、右上にある My Account -> Advanced -< API token\n",
    "\n",
    "（ステップ４）Qconfig.pyを開いて、\n",
    "```\n",
    "APItoken = \"ここにAPIトークンをいれる\"\n",
    "```\n",
    "にAPI Token の文字列を入れる。もしくは、直接 APItokenのところに書き込む。"
   ]
  },
  {
   "cell_type": "code",
   "execution_count": 1,
   "metadata": {},
   "outputs": [],
   "source": [
    "import matplotlib.pyplot as plt\n",
    "import scipy.optimize\n",
    "import math\n",
    "import scipy.linalg\n",
    "from scipy import linalg\n",
    "from scipy.linalg import expm\n",
    "import numpy as np\n",
    "import sys"
   ]
  },
  {
   "cell_type": "markdown",
   "metadata": {},
   "source": [
    "IBMQuantumExperienceのモジュールをインポート"
   ]
  },
  {
   "cell_type": "code",
   "execution_count": 2,
   "metadata": {},
   "outputs": [],
   "source": [
    "from IBMQuantumExperience import IBMQuantumExperience\n",
    "import IBMQuantumExperience"
   ]
  },
  {
   "cell_type": "code",
   "execution_count": 3,
   "metadata": {},
   "outputs": [],
   "source": [
    "#import Qconfig\n",
    "#api = IBMQuantumExperience.IBMQuantumExperience(Qconfig.APItoken, Qconfig.config)\n",
    "# Qconfig.pyファイルを編集するか以下の関数に直接トークンを書き込んでください。\n",
    "\n",
    "api = IBMQuantumExperience.IBMQuantumExperience(\"ここにAPItokenを書く\",{\"url\": 'https://quantumexperience.ng.bluemix.net/api'})"
   ]
  },
  {
   "cell_type": "markdown",
   "metadata": {},
   "source": [
    "ユニット数がわかる"
   ]
  },
  {
   "cell_type": "code",
   "execution_count": 4,
   "metadata": {},
   "outputs": [
    {
     "data": {
      "text/plain": [
       "{'maxUserType': 150, 'promotional': 0, 'remaining': 150}"
      ]
     },
     "execution_count": 4,
     "metadata": {},
     "output_type": "execute_result"
    }
   ],
   "source": [
    "api.get_my_credits()"
   ]
  },
  {
   "cell_type": "markdown",
   "metadata": {},
   "source": [
    "デバイスのステータスを見る"
   ]
  },
  {
   "cell_type": "code",
   "execution_count": 5,
   "metadata": {},
   "outputs": [
    {
     "ename": "BadBackendError",
     "evalue": "Could not find backend \"ibmqx2\" available.",
     "output_type": "error",
     "traceback": [
      "\u001b[0;31m---------------------------------------------------------------------------\u001b[0m",
      "\u001b[0;31mBadBackendError\u001b[0m                           Traceback (most recent call last)",
      "\u001b[0;32m<ipython-input-5-53a0d04ed497>\u001b[0m in \u001b[0;36m<module>\u001b[0;34m()\u001b[0m\n\u001b[0;32m----> 1\u001b[0;31m \u001b[0mapi\u001b[0m\u001b[0;34m.\u001b[0m\u001b[0mbackend_status\u001b[0m\u001b[0;34m(\u001b[0m\u001b[0;34m\"ibmqx2\"\u001b[0m\u001b[0;34m)\u001b[0m\u001b[0;34m\u001b[0m\u001b[0m\n\u001b[0m",
      "\u001b[0;32m~/.pyenv/versions/anaconda3-4.3.1/envs/py3.6.0/lib/python3.6/site-packages/IBMQuantumExperience/IBMQuantumExperience.py\u001b[0m in \u001b[0;36mbackend_status\u001b[0;34m(self, backend, access_token, user_id)\u001b[0m\n\u001b[1;32m    815\u001b[0m         \u001b[0mbackend_type\u001b[0m \u001b[0;34m=\u001b[0m \u001b[0mself\u001b[0m\u001b[0;34m.\u001b[0m\u001b[0m_check_backend\u001b[0m\u001b[0;34m(\u001b[0m\u001b[0mbackend\u001b[0m\u001b[0;34m,\u001b[0m \u001b[0;34m'status'\u001b[0m\u001b[0;34m)\u001b[0m\u001b[0;34m\u001b[0m\u001b[0m\n\u001b[1;32m    816\u001b[0m         \u001b[0;32mif\u001b[0m \u001b[0;32mnot\u001b[0m \u001b[0mbackend_type\u001b[0m\u001b[0;34m:\u001b[0m\u001b[0;34m\u001b[0m\u001b[0m\n\u001b[0;32m--> 817\u001b[0;31m             \u001b[0;32mraise\u001b[0m \u001b[0mBadBackendError\u001b[0m\u001b[0;34m(\u001b[0m\u001b[0mbackend\u001b[0m\u001b[0;34m)\u001b[0m\u001b[0;34m\u001b[0m\u001b[0m\n\u001b[0m\u001b[1;32m    818\u001b[0m \u001b[0;34m\u001b[0m\u001b[0m\n\u001b[1;32m    819\u001b[0m         status = self.req.get('/Backends/' + backend_type + '/queue/status',\n",
      "\u001b[0;31mBadBackendError\u001b[0m: Could not find backend \"ibmqx2\" available."
     ]
    }
   ],
   "source": [
    "api.backend_status(\"ibmqx2\")"
   ]
  },
  {
   "cell_type": "code",
   "execution_count": 6,
   "metadata": {},
   "outputs": [
    {
     "data": {
      "text/plain": [
       "{'available': True, 'backend': 'ibmqx4', 'pending_jobs': 71}"
      ]
     },
     "execution_count": 6,
     "metadata": {},
     "output_type": "execute_result"
    }
   ],
   "source": [
    "api.backend_status(\"ibmqx4\")"
   ]
  },
  {
   "cell_type": "code",
   "execution_count": 7,
   "metadata": {},
   "outputs": [
    {
     "ename": "BadBackendError",
     "evalue": "Could not find backend \"ibmqx5\" available.",
     "output_type": "error",
     "traceback": [
      "\u001b[0;31m---------------------------------------------------------------------------\u001b[0m",
      "\u001b[0;31mBadBackendError\u001b[0m                           Traceback (most recent call last)",
      "\u001b[0;32m<ipython-input-7-49becec757ad>\u001b[0m in \u001b[0;36m<module>\u001b[0;34m()\u001b[0m\n\u001b[0;32m----> 1\u001b[0;31m \u001b[0mapi\u001b[0m\u001b[0;34m.\u001b[0m\u001b[0mbackend_status\u001b[0m\u001b[0;34m(\u001b[0m\u001b[0;34m\"ibmqx5\"\u001b[0m\u001b[0;34m)\u001b[0m\u001b[0;34m\u001b[0m\u001b[0m\n\u001b[0m",
      "\u001b[0;32m~/.pyenv/versions/anaconda3-4.3.1/envs/py3.6.0/lib/python3.6/site-packages/IBMQuantumExperience/IBMQuantumExperience.py\u001b[0m in \u001b[0;36mbackend_status\u001b[0;34m(self, backend, access_token, user_id)\u001b[0m\n\u001b[1;32m    815\u001b[0m         \u001b[0mbackend_type\u001b[0m \u001b[0;34m=\u001b[0m \u001b[0mself\u001b[0m\u001b[0;34m.\u001b[0m\u001b[0m_check_backend\u001b[0m\u001b[0;34m(\u001b[0m\u001b[0mbackend\u001b[0m\u001b[0;34m,\u001b[0m \u001b[0;34m'status'\u001b[0m\u001b[0;34m)\u001b[0m\u001b[0;34m\u001b[0m\u001b[0m\n\u001b[1;32m    816\u001b[0m         \u001b[0;32mif\u001b[0m \u001b[0;32mnot\u001b[0m \u001b[0mbackend_type\u001b[0m\u001b[0;34m:\u001b[0m\u001b[0;34m\u001b[0m\u001b[0m\n\u001b[0;32m--> 817\u001b[0;31m             \u001b[0;32mraise\u001b[0m \u001b[0mBadBackendError\u001b[0m\u001b[0;34m(\u001b[0m\u001b[0mbackend\u001b[0m\u001b[0;34m)\u001b[0m\u001b[0;34m\u001b[0m\u001b[0m\n\u001b[0m\u001b[1;32m    818\u001b[0m \u001b[0;34m\u001b[0m\u001b[0m\n\u001b[1;32m    819\u001b[0m         status = self.req.get('/Backends/' + backend_type + '/queue/status',\n",
      "\u001b[0;31mBadBackendError\u001b[0m: Could not find backend \"ibmqx5\" available."
     ]
    }
   ],
   "source": [
    "api.backend_status(\"ibmqx5\")"
   ]
  },
  {
   "cell_type": "code",
   "execution_count": 10,
   "metadata": {},
   "outputs": [
    {
     "data": {
      "text/plain": [
       "[{'basisGates': 'u1,u2,u3,cx,id',\n",
       "  'chipName': 'Raven',\n",
       "  'couplingMap': [[1, 0], [2, 0], [2, 1], [3, 2], [3, 4], [4, 2]],\n",
       "  'description': '5 qubit transmon bowtie chip 3',\n",
       "  'gateSet': 'SU2+CNOT',\n",
       "  'id': '5ae875670f020500393162b3',\n",
       "  'nQubits': 5,\n",
       "  'name': 'ibmqx4',\n",
       "  'onlineDate': '2017-09-18T00:00:00.000Z',\n",
       "  'serialNumber': 'ibmqx4',\n",
       "  'simulator': False,\n",
       "  'status': 'on',\n",
       "  'topologyId': '5ae875640f02050039315bf8',\n",
       "  'url': 'https://ibm.biz/qiskit-ibmqx4',\n",
       "  'version': '1.2.0'},\n",
       " {'basisGates': 'u1,u2,u3,cx,id',\n",
       "  'chipName': 'Albatross',\n",
       "  'couplingMap': [[1, 0],\n",
       "   [1, 2],\n",
       "   [2, 3],\n",
       "   [3, 4],\n",
       "   [3, 14],\n",
       "   [5, 4],\n",
       "   [6, 5],\n",
       "   [6, 7],\n",
       "   [6, 11],\n",
       "   [7, 10],\n",
       "   [8, 7],\n",
       "   [9, 8],\n",
       "   [9, 10],\n",
       "   [11, 10],\n",
       "   [12, 5],\n",
       "   [12, 11],\n",
       "   [12, 13],\n",
       "   [13, 4],\n",
       "   [13, 14],\n",
       "   [15, 0],\n",
       "   [15, 2],\n",
       "   [15, 14]],\n",
       "  'description': '16 transmon 2x8 ladder',\n",
       "  'gateSet': 'SU2+CNOT',\n",
       "  'id': '5ae875670f020500393162b6',\n",
       "  'nQubits': 16,\n",
       "  'name': 'ibmqx5',\n",
       "  'onlineDate': '2017-09-21T00:00:00.000Z',\n",
       "  'serialNumber': 'ibmqx5',\n",
       "  'simulator': False,\n",
       "  'status': 'on',\n",
       "  'topologyId': '5ae875640f02050039315bf9',\n",
       "  'url': 'https://ibm.biz/qiskit-ibmqx5',\n",
       "  'version': '1.1.0'},\n",
       " {'basisGates': 'u1,u2,u3,cx,id',\n",
       "  'chipName': 'Sparrow',\n",
       "  'couplingMap': [[0, 1], [0, 2], [1, 2], [3, 2], [3, 4], [4, 2]],\n",
       "  'description': '5 qubit transmon bowtie chip 2',\n",
       "  'gateSet': 'SU2+CNOT',\n",
       "  'id': '5ae875670f020500393162da',\n",
       "  'nQubits': 5,\n",
       "  'name': 'ibmqx2',\n",
       "  'onlineDate': '2017-01-10T00:00:00.000Z',\n",
       "  'serialNumber': 'Real5Qv2',\n",
       "  'simulator': False,\n",
       "  'status': 'on',\n",
       "  'topologyId': '5ae875640f02050039315bfb',\n",
       "  'url': 'https://ibm.biz/qiskit-ibmqx2',\n",
       "  'version': '1'},\n",
       " {'basisGates': 'u1,u2,u3,cx,id',\n",
       "  'couplingMap': 'all-to-all',\n",
       "  'description': 'online qasm simulator',\n",
       "  'nQubits': 32,\n",
       "  'name': 'ibmq_qasm_simulator',\n",
       "  'onlineDate': '2017-12-09T12:00:00.000Z',\n",
       "  'simulator': True,\n",
       "  'status': 'on'}]"
      ]
     },
     "execution_count": 10,
     "metadata": {},
     "output_type": "execute_result"
    }
   ],
   "source": [
    "api.available_backends()"
   ]
  },
  {
   "cell_type": "markdown",
   "metadata": {},
   "source": [
    "OpenQASM形式で量子回路をテキストとして書き出す。IBMQのウェブブラウザーからopenQASM形式の記述を学ぼう。"
   ]
  },
  {
   "cell_type": "code",
   "execution_count": 15,
   "metadata": {},
   "outputs": [],
   "source": [
    "#好きな名前のテキストを作る\n",
    "qcircuit =[{ 'qasm': 'OPENQASM 2.0;\\n'\n",
    "\"\"\"\n",
    "include \"qelib1.inc\";\n",
    "qreg q[5];\n",
    "creg c[5];\n",
    "\n",
    "h q[0];\n",
    "t q[0];\n",
    "h q[0];\n",
    "\n",
    "measure q[0] -> c[0];\n",
    "\"\"\"\n",
    "           }]"
   ]
  },
  {
   "cell_type": "markdown",
   "metadata": {},
   "source": [
    "api.run_job(回路テキスト名、使うデバイス、サンプル数、ユニット数）\n",
    "でjobを投げる。"
   ]
  },
  {
   "cell_type": "code",
   "execution_count": 16,
   "metadata": {},
   "outputs": [
    {
     "name": "stdout",
     "output_type": "stream",
     "text": [
      "{'qasms': [{'qasm': '\\n\\ninclude \"qelib1.inc\";\\nqreg q[5];\\ncreg c[5];\\n\\nh q[0];\\nt q[0];\\nh q[0];\\n\\nmeasure q[0] -> c[0];\\n', 'status': 'WORKING_IN_PROGRESS', 'executionId': '5bd7a52465cefa003edf735e'}], 'shots': 8192, 'backend': {'id': '5ae875670f020500393162b3', 'name': 'ibmqx4'}, 'status': 'RUNNING', 'maxCredits': 5, 'usedCredits': 5, 'creationDate': '2018-10-30T00:26:12.290Z', 'deleted': False, 'id': '5bd7a52465cefa003edf735d', 'userId': '5ae8748c0f02050039314f73', 'infoQueue': {'status': 'PENDING_IN_QUEUE', 'position': 1}}\n"
     ]
    }
   ],
   "source": [
    "backend = 'ibmqx4'\n",
    "response = api.run_job(qcircuit, backend ,shots = 8192, max_credits = 5)\n",
    "print(response)"
   ]
  },
  {
   "cell_type": "markdown",
   "metadata": {},
   "source": [
    "idを取得する。responseの中の id 要素を参照する。"
   ]
  },
  {
   "cell_type": "code",
   "execution_count": 18,
   "metadata": {},
   "outputs": [
    {
     "name": "stdout",
     "output_type": "stream",
     "text": [
      "5bd7a52465cefa003edf735d\n"
     ]
    }
   ],
   "source": [
    "id = response[\"id\"]\n",
    "print(id)"
   ]
  },
  {
   "cell_type": "markdown",
   "metadata": {},
   "source": [
    "対応する id の状況を取得する。"
   ]
  },
  {
   "cell_type": "code",
   "execution_count": 27,
   "metadata": {},
   "outputs": [
    {
     "data": {
      "text/plain": [
       "{'backend': {'id': '5ae875670f020500393162b3', 'name': 'ibmqx4'},\n",
       " 'calibration': {'fridgeParameters': {'Temperature': {'date': '-',\n",
       "    'unit': '-',\n",
       "    'value': []},\n",
       "   'cooldownDate': '2017-09-07'},\n",
       "  'lastUpdateDate': '2018-10-29T09:59:34.000Z',\n",
       "  'multiQubitGates': [{'gateError': {'date': '2018-10-29T09:59:34Z',\n",
       "     'value': 0.02799624518850735},\n",
       "    'name': 'CX1_0',\n",
       "    'qubits': [1, 0],\n",
       "    'type': 'CX'},\n",
       "   {'gateError': {'date': '2018-10-29T09:59:34Z',\n",
       "     'value': 0.023992922342067957},\n",
       "    'name': 'CX2_0',\n",
       "    'qubits': [2, 0],\n",
       "    'type': 'CX'},\n",
       "   {'gateError': {'date': '2018-10-29T09:59:34Z',\n",
       "     'value': 0.03323768063574395},\n",
       "    'name': 'CX2_1',\n",
       "    'qubits': [2, 1],\n",
       "    'type': 'CX'},\n",
       "   {'gateError': {'date': '2018-10-29T09:59:34Z',\n",
       "     'value': 0.05696233200548076},\n",
       "    'name': 'CX3_2',\n",
       "    'qubits': [3, 2],\n",
       "    'type': 'CX'},\n",
       "   {'gateError': {'date': '2018-10-29T09:59:34Z',\n",
       "     'value': 0.03986794098301716},\n",
       "    'name': 'CX3_4',\n",
       "    'qubits': [3, 4],\n",
       "    'type': 'CX'},\n",
       "   {'gateError': {'date': '2018-10-29T09:59:34Z',\n",
       "     'value': 0.055853138683055636},\n",
       "    'name': 'CX4_2',\n",
       "    'qubits': [4, 2],\n",
       "    'type': 'CX'}],\n",
       "  'qubits': [{'T1': {'date': '2018-10-29T09:59:34Z',\n",
       "     'unit': 'µs',\n",
       "     'value': 48.2},\n",
       "    'T2': {'date': '2018-10-29T09:59:34Z', 'unit': 'µs', 'value': 40.6},\n",
       "    'buffer': {'date': '2018-10-29T09:59:34Z', 'unit': 'ns', 'value': 10},\n",
       "    'frequency': {'date': '2018-10-29T09:59:34Z',\n",
       "     'unit': 'GHz',\n",
       "     'value': 5.24984},\n",
       "    'gateError': {'date': '2018-10-29T09:59:34Z',\n",
       "     'value': 0.000858490762927322},\n",
       "    'gateTime': {'date': '2018-10-29T09:59:34Z', 'unit': 'ns', 'value': 60},\n",
       "    'name': 'Q0',\n",
       "    'readoutError': {'date': '2018-10-29T09:59:34Z', 'value': 0.062}},\n",
       "   {'T1': {'date': '2018-10-29T09:59:34Z', 'unit': 'µs', 'value': 50},\n",
       "    'T2': {'date': '2018-10-29T09:59:34Z', 'unit': 'µs', 'value': 21.8},\n",
       "    'buffer': {'date': '2018-10-29T09:59:34Z', 'unit': 'ns', 'value': 10},\n",
       "    'frequency': {'date': '2018-10-29T09:59:34Z',\n",
       "     'unit': 'GHz',\n",
       "     'value': 5.29578},\n",
       "    'gateError': {'date': '2018-10-29T09:59:34Z',\n",
       "     'value': 0.00670271966448982},\n",
       "    'gateTime': {'date': '2018-10-29T09:59:34Z', 'unit': 'ns', 'value': 60},\n",
       "    'name': 'Q1',\n",
       "    'readoutError': {'date': '2018-10-29T09:59:34Z', 'value': 0.075}},\n",
       "   {'T1': {'date': '2018-10-29T09:59:34Z', 'unit': 'µs', 'value': 40.2},\n",
       "    'T2': {'date': '2018-10-29T09:59:34Z', 'unit': 'µs', 'value': 35.4},\n",
       "    'buffer': {'date': '2018-10-29T09:59:34Z', 'unit': 'ns', 'value': 10},\n",
       "    'frequency': {'date': '2018-10-29T09:59:34Z',\n",
       "     'unit': 'GHz',\n",
       "     'value': 5.35326},\n",
       "    'gateError': {'date': '2018-10-29T09:59:34Z',\n",
       "     'value': 0.0014595792651160289},\n",
       "    'gateTime': {'date': '2018-10-29T09:59:34Z', 'unit': 'ns', 'value': 60},\n",
       "    'name': 'Q2',\n",
       "    'readoutError': {'date': '2018-10-29T09:59:34Z', 'value': 0.033}},\n",
       "   {'T1': {'date': '2018-10-29T09:59:34Z', 'unit': 'µs', 'value': 50},\n",
       "    'T2': {'date': '2018-10-29T09:59:34Z', 'unit': 'µs', 'value': 18.6},\n",
       "    'buffer': {'date': '2018-10-29T09:59:34Z', 'unit': 'ns', 'value': 10},\n",
       "    'frequency': {'date': '2018-10-29T09:59:34Z',\n",
       "     'unit': 'GHz',\n",
       "     'value': 5.43498},\n",
       "    'gateError': {'date': '2018-10-29T09:59:34Z',\n",
       "     'value': 0.001889001411209068},\n",
       "    'gateTime': {'date': '2018-10-29T09:59:34Z', 'unit': 'ns', 'value': 60},\n",
       "    'name': 'Q3',\n",
       "    'readoutError': {'date': '2018-10-29T09:59:34Z', 'value': 0.026}},\n",
       "   {'T1': {'date': '2018-10-29T09:59:34Z', 'unit': 'µs', 'value': 61.3},\n",
       "    'T2': {'date': '2018-10-29T09:59:34Z', 'unit': 'µs', 'value': 13.2},\n",
       "    'buffer': {'date': '2018-10-29T09:59:34Z', 'unit': 'ns', 'value': 10},\n",
       "    'frequency': {'date': '2018-10-29T09:59:34Z',\n",
       "     'unit': 'GHz',\n",
       "     'value': 5.17581},\n",
       "    'gateError': {'date': '2018-10-29T09:59:34Z',\n",
       "     'value': 0.00128782749692391},\n",
       "    'gateTime': {'date': '2018-10-29T09:59:34Z', 'unit': 'ns', 'value': 60},\n",
       "    'name': 'Q4',\n",
       "    'readoutError': {'date': '2018-10-29T09:59:34Z', 'value': 0.049}}],\n",
       "  'version': '3.0'},\n",
       " 'creationDate': '2018-10-30T00:26:12.290Z',\n",
       " 'deleted': False,\n",
       " 'id': '5bd7a52465cefa003edf735d',\n",
       " 'maxCredits': 5,\n",
       " 'qasms': [{'data': {'counts': {'00000': 6966, '00001': 1226},\n",
       "    'date': '2018-10-30T00:32:22.705Z',\n",
       "    'time': 68.99961614608765},\n",
       "   'executionId': '5bd7a52465cefa003edf735e',\n",
       "   'qasm': '\\n\\ninclude \"qelib1.inc\";\\nqreg q[5];\\ncreg c[5];\\n\\nh q[0];\\nt q[0];\\nh q[0];\\n\\nmeasure q[0] -> c[0];\\n',\n",
       "   'status': 'DONE'}],\n",
       " 'shots': 8192,\n",
       " 'status': 'COMPLETED',\n",
       " 'usedCredits': 5,\n",
       " 'userId': '5ae8748c0f02050039314f73'}"
      ]
     },
     "execution_count": 27,
     "metadata": {},
     "output_type": "execute_result"
    }
   ],
   "source": [
    "api.get_job(id)"
   ]
  },
  {
   "cell_type": "markdown",
   "metadata": {},
   "source": [
    "jobが遂行されたか \"status\"を確認する。"
   ]
  },
  {
   "cell_type": "code",
   "execution_count": 28,
   "metadata": {},
   "outputs": [
    {
     "data": {
      "text/plain": [
       "'COMPLETED'"
      ]
     },
     "execution_count": 28,
     "metadata": {},
     "output_type": "execute_result"
    }
   ],
   "source": [
    "api.get_job(id)[\"status\"]"
   ]
  },
  {
   "cell_type": "code",
   "execution_count": 35,
   "metadata": {},
   "outputs": [
    {
     "name": "stdout",
     "output_type": "stream",
     "text": [
      "{'00000': 6966, '00001': 1226}\n"
     ]
    }
   ],
   "source": [
    "result_data = api.get_job(id)[\"qasms\"][0][\"data\"][\"counts\"]\n",
    "print(result_data)"
   ]
  },
  {
   "cell_type": "code",
   "execution_count": 31,
   "metadata": {},
   "outputs": [
    {
     "data": {
      "text/plain": [
       "{'counts': {'00000': 6966, '00001': 1226},\n",
       " 'date': '2018-10-30T00:32:22.705Z',\n",
       " 'time': 68.99961614608765}"
      ]
     },
     "execution_count": 31,
     "metadata": {},
     "output_type": "execute_result"
    }
   ],
   "source": [
    "tmp_result[\"data\"]"
   ]
  },
  {
   "cell_type": "code",
   "execution_count": 22,
   "metadata": {},
   "outputs": [],
   "source": [
    "tmp_result = tmp_result[\"data\"][\"counts\"]"
   ]
  },
  {
   "cell_type": "code",
   "execution_count": 23,
   "metadata": {},
   "outputs": [
    {
     "data": {
      "text/plain": [
       "6950"
      ]
     },
     "execution_count": 23,
     "metadata": {},
     "output_type": "execute_result"
    }
   ],
   "source": [
    "tmp_result[\"00000\"]"
   ]
  },
  {
   "cell_type": "code",
   "execution_count": 24,
   "metadata": {},
   "outputs": [
    {
     "data": {
      "text/plain": [
       "1242"
      ]
     },
     "execution_count": 24,
     "metadata": {},
     "output_type": "execute_result"
    }
   ],
   "source": [
    "tmp_result[\"00001\"]"
   ]
  },
  {
   "cell_type": "code",
   "execution_count": 44,
   "metadata": {},
   "outputs": [],
   "source": [
    "def get_result():\n",
    "    backend = 'ibmq_qasm_simulator'\n",
    "    #backend = 'ibmqx2'\n",
    "    #backend = 'ibmqx4'\n",
    "    \n",
    "    #jobを投げる\n",
    "    response = api.run_job(qcircuit, backend ,shots = 8192, max_credits = 15) \n",
    "    #print(response)\n",
    "\n",
    "    #id を取得する\n",
    "    id = response[\"id\"]\n",
    "    \n",
    "    #resulttmpに情報を格納する\n",
    "    resulttmp = api.get_job(id)\n",
    "    \n",
    "    #'RUNNING'担っている間ずっと問い合わせる\n",
    "    while(resulttmp[\"status\"]=='RUNNING'):\n",
    "        import time\n",
    "        time.sleep(10)\n",
    "        resulttmp = api.get_job(id)\n",
    "        print(\"request...{}, return {}\".format(id,resulttmp[\"status\"]))\n",
    "    \n",
    "    #'RUNNING'が終わると get_jobの値を返す\n",
    "    return resulttmp"
   ]
  },
  {
   "cell_type": "code",
   "execution_count": 42,
   "metadata": {},
   "outputs": [
    {
     "name": "stdout",
     "output_type": "stream",
     "text": [
      "{'qasms': [{'qasm': '\\n\\ninclude \"qelib1.inc\";\\nqreg q[5];\\ncreg c[5];\\n\\nh q[0];\\nt q[0];\\nh q[0];\\n\\nmeasure q[0] -> c[0];\\n', 'status': 'WORKING_IN_PROGRESS', 'executionId': '5bd7ab121bf7450056cd00a8'}], 'shots': 8192, 'backend': {'name': 'ibmq_qasm_simulator'}, 'status': 'RUNNING', 'maxCredits': 15, 'usedCredits': 0, 'creationDate': '2018-10-30T00:51:30.822Z', 'deleted': False, 'id': '5bd7ab121bf7450056cd00a7', 'userId': '5ae8748c0f02050039314f73'}\n",
      "request...5bd7ab121bf7450056cd00a7, return COMPLETED\n"
     ]
    },
    {
     "data": {
      "text/plain": [
       "{'backend': {'name': 'ibmq_qasm_simulator'},\n",
       " 'calibration': {},\n",
       " 'creationDate': '2018-10-30T00:51:30.822Z',\n",
       " 'deleted': False,\n",
       " 'id': '5bd7ab121bf7450056cd00a7',\n",
       " 'maxCredits': 15,\n",
       " 'qasms': [{'data': {'additionalData': {'seed': 820179956},\n",
       "    'counts': {'00000': 7011, '00001': 1181},\n",
       "    'creg_labels': 'c[5]',\n",
       "    'date': '2018-10-30T00:51:31.395Z',\n",
       "    'time': 0.040624,\n",
       "    'versionSimulationRun': 'IBM_Q_Simulator:CPU-v0.1.b5cdd73\\n'},\n",
       "   'executionId': '5bd7ab121bf7450056cd00a8',\n",
       "   'qasm': '\\n\\ninclude \"qelib1.inc\";\\nqreg q[5];\\ncreg c[5];\\n\\nh q[0];\\nt q[0];\\nh q[0];\\n\\nmeasure q[0] -> c[0];\\n',\n",
       "   'status': 'DONE'}],\n",
       " 'shots': 8192,\n",
       " 'status': 'COMPLETED',\n",
       " 'usedCredits': 0,\n",
       " 'userId': '5ae8748c0f02050039314f73'}"
      ]
     },
     "execution_count": 42,
     "metadata": {},
     "output_type": "execute_result"
    }
   ],
   "source": [
    "get_result()"
   ]
  },
  {
   "cell_type": "markdown",
   "metadata": {},
   "source": [
    "まとめて、最後のほしいデータまでを計算するようなコードを書く。"
   ]
  },
  {
   "cell_type": "code",
   "execution_count": 20,
   "metadata": {},
   "outputs": [
    {
     "name": "stdout",
     "output_type": "stream",
     "text": [
      "{'qasms': [{'qasm': '\\n\\ninclude \"qelib1.inc\";\\nqreg q[5];\\ncreg c[5];\\n\\nh q[0];\\nt q[0];\\nh q[0];\\n\\nmeasure q[0] -> c[0];\\n', 'status': 'WORKING_IN_PROGRESS', 'executionId': '5b179d426d9f4e003b8be3cc'}], 'shots': 8192, 'backend': {'name': 'ibmq_qasm_simulator'}, 'status': 'RUNNING', 'maxCredits': 15, 'usedCredits': 0, 'creationDate': '2018-06-06T08:37:22.287Z', 'id': '5b179d426d9f4e003b8be3cb', 'userId': '5ae8748c0f02050039314f73'}\n",
      "0.8515625 0.1484375\n"
     ]
    },
    {
     "data": {
      "text/plain": [
       "<Container object of 2 artists>"
      ]
     },
     "execution_count": 20,
     "metadata": {},
     "output_type": "execute_result"
    },
    {
     "data": {
      "image/png": "[encoded data removed]",
      "text/plain": [
       "<matplotlib.figure.Figure at 0x1090a0400>"
      ]
     },
     "metadata": {},
     "output_type": "display_data"
    }
   ],
   "source": [
    "result = get_result()\n",
    "num_sample = result[\"shots\"]\n",
    "prob0 = 1.0* result[\"qasms\"][0][\"data\"][\"counts\"][\"00000\"]/num_sample\n",
    "prob1 = 1.0* result[\"qasms\"][0][\"data\"][\"counts\"][\"00001\"]/num_sample\n",
    "\n",
    "print(prob0,prob1)\n",
    "plt.bar([0,1],[prob0,prob1])"
   ]
  },
  {
   "cell_type": "markdown",
   "metadata": {},
   "source": [
    "うまく動くことが確認できたら実機で実行しよう。"
   ]
  },
  {
   "cell_type": "code",
   "execution_count": 33,
   "metadata": {},
   "outputs": [
    {
     "name": "stdout",
     "output_type": "stream",
     "text": [
      "{'qasms': [{'qasm': '\\n\\ninclude \"qelib1.inc\";\\nqreg q[5];\\ncreg c[5];\\n\\nh q[0];\\nt q[0];\\nh q[0];\\n\\nmeasure q[0] -> c[0];\\n', 'status': 'WORKING_IN_PROGRESS', 'executionId': '5b1795eb0f2025003866d046'}], 'shots': 8192, 'backend': {'id': '5ae875670f020500393162b3', 'name': 'ibmqx4'}, 'status': 'RUNNING', 'maxCredits': 15, 'usedCredits': 5, 'creationDate': '2018-06-06T08:06:02.623Z', 'id': '5b1795eb0f2025003866d045', 'userId': '5ae8748c0f02050039314f73', 'infoQueue': {'status': 'FINISHED'}}\n",
      "request...5b1795eb0f2025003866d045, return RUNNING\n",
      "request...5b1795eb0f2025003866d045, return RUNNING\n",
      "request...5b1795eb0f2025003866d045, return RUNNING\n",
      "request...5b1795eb0f2025003866d045, return RUNNING\n",
      "request...5b1795eb0f2025003866d045, return RUNNING\n",
      "request...5b1795eb0f2025003866d045, return RUNNING\n",
      "request...5b1795eb0f2025003866d045, return COMPLETED\n",
      "0.8526611328125 0.1473388671875\n"
     ]
    },
    {
     "data": {
      "text/plain": [
       "<Container object of 2 artists>"
      ]
     },
     "execution_count": 33,
     "metadata": {},
     "output_type": "execute_result"
    },
    {
     "data": {
      "image/png": "[encoded data removed]",
      "text/plain": [
       "<matplotlib.figure.Figure at 0x107787d68>"
      ]
     },
     "metadata": {},
     "output_type": "display_data"
    }
   ],
   "source": [
    "qcircuit =[{ 'qasm': 'OPENQASM 2.0;\\n'\n",
    "\"\"\"\n",
    "include \"qelib1.inc\";\n",
    "qreg q[5];\n",
    "creg c[5];\n",
    "\n",
    "h q[0];\n",
    "t q[0];\n",
    "h q[0];\n",
    "\n",
    "measure q[0] -> c[0];\n",
    "\"\"\"\n",
    "           }]\n",
    "result = get_result()\n",
    "num_sample = result[\"shots\"]\n",
    "prob0 = 1.0* result[\"qasms\"][0][\"data\"][\"counts\"][\"00000\"]/num_sample\n",
    "prob1 = 1.0* result[\"qasms\"][0][\"data\"][\"counts\"][\"00001\"]/num_sample\n",
    "\n",
    "print(prob0,prob1)\n",
    "plt.bar([0,1],[prob0,prob1])"
   ]
  },
  {
   "cell_type": "code",
   "execution_count": 73,
   "metadata": {
    "scrolled": true
   },
   "outputs": [
    {
     "name": "stdout",
     "output_type": "stream",
     "text": [
      "request...5bd7b56d83633700626f604a, return COMPLETED\n",
      "request...5bd7b57ff39f7900431653dc, return COMPLETED\n",
      "request...5bd7b593f9ace70055959a87, return COMPLETED\n",
      "request...5bd7b5a2cf6a040060917327, return COMPLETED\n",
      "request...5bd7b5b284c92c006256904b, return COMPLETED\n",
      "request...5bd7b5c11896af0062f010aa, return COMPLETED\n",
      "request...5bd7b5cf7edb46005de35807, return COMPLETED\n",
      "request...5bd7b5ddf9ace70055959a89, return COMPLETED\n",
      "request...5bd7b5ec84c92c006256904d, return COMPLETED\n",
      "request...5bd7b5fc2dbb8d0052dc0a3e, return COMPLETED\n",
      "request...5bd7b60c53b38800643435ed, return COMPLETED\n",
      "request...5bd7b61b84c92c006256904f, return COMPLETED\n",
      "request...5bd7b629185c31005d5147c4, return COMPLETED\n",
      "request...5bd7b6394c57c900659fd652, return COMPLETED\n",
      "request...5bd7b64cf39f7900431653e0, return COMPLETED\n",
      "request...5bd7b65b185c31005d5147c6, return COMPLETED\n",
      "request...5bd7b66a1385fe0052b9dcdb, return COMPLETED\n",
      "request...5bd7b67998b5d90053f0e159, return COMPLETED\n"
     ]
    },
    {
     "data": {
      "image/png": "[encoded data removed]",
      "text/plain": [
       "<Figure size 432x288 with 1 Axes>"
      ]
     },
     "metadata": {},
     "output_type": "display_data"
    }
   ],
   "source": [
    "prob0 = []\n",
    "prob1 = []\n",
    "angle =[]\n",
    "\n",
    "\n",
    "for i in range(20):\n",
    "    qcircuit_orig = \"\"\"\n",
    "include \"qelib1.inc\";\n",
    "qreg q[5];\n",
    "creg c[5];\n",
    "\n",
    "h q[0];\n",
    "u1(phi) q[0];\n",
    "h q[0];\n",
    "\n",
    "measure q[0] -> c[0];\n",
    "\"\"\"\n",
    "    \n",
    "    phi = 2.0*np.pi*i/20\n",
    "    angle.append(phi)\n",
    "    qcircuit = qcircuit_orig.replace(\"phi\",\"{0:f}\".format(phi))\n",
    "    qcircuit = [{'qasm':qcircuit}]\n",
    "    #print(qcircuit)\n",
    "\n",
    "    \n",
    "    result = get_result()\n",
    "    num_sample = result[\"shots\"]\n",
    "    #print(result)\n",
    "    if(\"00000\" in result[\"qasms\"][0][\"data\"][\"counts\"]):\n",
    "        prob0.append(1.0* result[\"qasms\"][0][\"data\"][\"counts\"][\"00000\"]/num_sample)\n",
    "    else:\n",
    "        prob0.append(0)\n",
    "    if(\"00001\" in result[\"qasms\"][0][\"data\"][\"counts\"]):\n",
    "        prob1.append(1.0* result[\"qasms\"][0][\"data\"][\"counts\"][\"00001\"]/num_sample)\n",
    "    else:\n",
    "        prob1.append(0)\n",
    "\n",
    "#print(prob0,prob1)\n",
    "plt.plot(angle,prob0)\n",
    "plt.plot(angle,prob1)\n",
    "plt.show()"
   ]
  },
  {
   "cell_type": "code",
   "execution_count": 74,
   "metadata": {},
   "outputs": [
    {
     "data": {
      "image/png": "[encoded data removed]",
      "text/plain": [
       "<Figure size 432x288 with 1 Axes>"
      ]
     },
     "metadata": {},
     "output_type": "display_data"
    }
   ],
   "source": [
    "plt.plot(angle,prob0)\n",
    "plt.plot(angle,prob1)\n",
    "plt.show()\n"
   ]
  },
  {
   "cell_type": "code",
   "execution_count": 70,
   "metadata": {},
   "outputs": [
    {
     "data": {
      "text/plain": [
       "[0.0,\n",
       " 0.6283185307179586,\n",
       " 1.2566370614359172,\n",
       " 1.8849555921538759,\n",
       " 2.5132741228718345,\n",
       " 3.141592653589793,\n",
       " 3.7699111843077517,\n",
       " 4.39822971502571,\n",
       " 5.026548245743669,\n",
       " 5.654866776461628,\n",
       " 6.283185307179586,\n",
       " 6.911503837897544,\n",
       " 7.5398223686155035,\n",
       " 8.168140899333462,\n",
       " 8.79645943005142,\n",
       " 9.42477796076938,\n",
       " 10.053096491487338,\n",
       " 10.681415022205297,\n",
       " 11.309733552923255,\n",
       " 11.938052083641214]"
      ]
     },
     "execution_count": 70,
     "metadata": {},
     "output_type": "execute_result"
    }
   ],
   "source": [
    "angle"
   ]
  },
  {
   "cell_type": "markdown",
   "metadata": {},
   "source": [
    "6量子ビットをsimulator上で使う。"
   ]
  },
  {
   "cell_type": "code",
   "execution_count": 10,
   "metadata": {},
   "outputs": [],
   "source": [
    "qcircuit =[{ 'qasm': 'OPENQASM 2.0;\\n'\n",
    "\"\"\"\n",
    "include \"qelib1.inc\";\n",
    "qreg q[6];\n",
    "creg c[6];\n",
    "\n",
    "h q[0];\n",
    "h q[1];\n",
    "h q[2];\n",
    "h q[3];\n",
    "h q[4];\n",
    "t q[5];\n",
    "\n",
    "\n",
    "measure q[0] -> c[0];\n",
    "measure q[1] -> c[1];\n",
    "measure q[2] -> c[2];\n",
    "measure q[3] -> c[3];\n",
    "measure q[4] -> c[4];\n",
    "measure q[5] -> c[5];\n",
    "\"\"\"\n",
    "           }]\n",
    "\n",
    "def get_result_simulator():\n",
    "    backend = 'ibmq_qasm_simulator'\n",
    "    #backend = 'ibmqx2'\n",
    "    #backend = 'ibmqx4'\n",
    "    \n",
    "    #jobを投げる\n",
    "    response = api.run_job(qcircuit, backend ,shots = 8192, max_credits = 15) \n",
    "    print(response)\n",
    "\n",
    "    #id を取得する\n",
    "    id = response[\"id\"]\n",
    "    \n",
    "    #resulttmpに情報を格納する\n",
    "    resulttmp = api.get_job(id)\n",
    "    \n",
    "    #'RUNNING'担っている間ずっと問い合わせる\n",
    "    while(resulttmp[\"status\"]=='RUNNING'):\n",
    "        import time\n",
    "        time.sleep(1)\n",
    "        resulttmp = api.get_job(id)\n",
    "        print(\"request...{}, return {}\".format(id,resulttmp[\"status\"]))\n",
    "    \n",
    "    #'RUNNING'が終わると get_jobの値を返す\n",
    "    #print(resulttmp)\n",
    "    return resulttmp"
   ]
  },
  {
   "cell_type": "code",
   "execution_count": 22,
   "metadata": {},
   "outputs": [
    {
     "name": "stdout",
     "output_type": "stream",
     "text": [
      "{'qasms': [{'qasm': '\\n\\ninclude \"qelib1.inc\";\\nqreg q[6];\\ncreg c[6];\\n\\nh q[0];\\nh q[1];\\nh q[2];\\nh q[3];\\nh q[4];\\nt q[5];\\n\\n\\nmeasure q[0] -> c[0];\\nmeasure q[1] -> c[1];\\nmeasure q[2] -> c[2];\\nmeasure q[3] -> c[3];\\nmeasure q[4] -> c[4];\\nmeasure q[5] -> c[5];\\n', 'status': 'WORKING_IN_PROGRESS', 'executionId': '5b17a32b18fd2d0042e784f7'}], 'shots': 8192, 'backend': {'name': 'ibmq_qasm_simulator'}, 'status': 'RUNNING', 'maxCredits': 15, 'usedCredits': 0, 'creationDate': '2018-06-06T09:02:35.725Z', 'id': '5b17a32b18fd2d0042e784f6', 'userId': '5ae8748c0f02050039314f73'}\n"
     ]
    }
   ],
   "source": [
    "result = get_result_simulator();"
   ]
  },
  {
   "cell_type": "code",
   "execution_count": 23,
   "metadata": {},
   "outputs": [
    {
     "data": {
      "text/plain": [
       "{'backend': {'name': 'ibmq_qasm_simulator'},\n",
       " 'calibration': {},\n",
       " 'creationDate': '2018-06-06T09:02:35.725Z',\n",
       " 'id': '5b17a32b18fd2d0042e784f6',\n",
       " 'maxCredits': 15,\n",
       " 'qasms': [{'data': {'additionalData': {'seed': 145052512},\n",
       "    'counts': {'000000': 250,\n",
       "     '000001': 254,\n",
       "     '000010': 267,\n",
       "     '000011': 252,\n",
       "     '000100': 249,\n",
       "     '000101': 228,\n",
       "     '000110': 221,\n",
       "     '000111': 241,\n",
       "     '001000': 261,\n",
       "     '001001': 263,\n",
       "     '001010': 274,\n",
       "     '001011': 243,\n",
       "     '001100': 252,\n",
       "     '001101': 274,\n",
       "     '001110': 265,\n",
       "     '001111': 255,\n",
       "     '010000': 259,\n",
       "     '010001': 242,\n",
       "     '010010': 264,\n",
       "     '010011': 267,\n",
       "     '010100': 241,\n",
       "     '010101': 241,\n",
       "     '010110': 247,\n",
       "     '010111': 294,\n",
       "     '011000': 267,\n",
       "     '011001': 270,\n",
       "     '011010': 239,\n",
       "     '011011': 271,\n",
       "     '011100': 247,\n",
       "     '011101': 262,\n",
       "     '011110': 282,\n",
       "     '011111': 250},\n",
       "    'creg_labels': 'c[6]',\n",
       "    'date': '2018-06-06T09:02:36.262Z',\n",
       "    'time': 0.277506},\n",
       "   'executionId': '5b17a32b18fd2d0042e784f7',\n",
       "   'qasm': '\\n\\ninclude \"qelib1.inc\";\\nqreg q[6];\\ncreg c[6];\\n\\nh q[0];\\nh q[1];\\nh q[2];\\nh q[3];\\nh q[4];\\nt q[5];\\n\\n\\nmeasure q[0] -> c[0];\\nmeasure q[1] -> c[1];\\nmeasure q[2] -> c[2];\\nmeasure q[3] -> c[3];\\nmeasure q[4] -> c[4];\\nmeasure q[5] -> c[5];\\n',\n",
       "   'status': 'DONE'}],\n",
       " 'shots': 8192,\n",
       " 'status': 'COMPLETED',\n",
       " 'usedCredits': 0,\n",
       " 'userId': '5ae8748c0f02050039314f73'}"
      ]
     },
     "execution_count": 23,
     "metadata": {},
     "output_type": "execute_result"
    }
   ],
   "source": [
    "result"
   ]
  },
  {
   "cell_type": "markdown",
   "metadata": {},
   "source": [
    "量子体積のベンチマークをやる。量子体積のベンチマーク用回路は、https://github.com/Qiskit/openqasm/tree/master/benchmarks/quantum_volume \n",
    "にあるpythonコードから生成できます。"
   ]
  },
  {
   "cell_type": "code",
   "execution_count": 8,
   "metadata": {},
   "outputs": [],
   "source": [
    "qcircuit =[{ 'qasm': 'OPENQASM 2.0;\\n'\n",
    "\"\"\"\n",
    "include \"qelib1.inc\";\n",
    "qreg q[5];\n",
    "creg c[5];\n",
    "u3(1.91152688683070,-1.21657226677740,-1.71729995818657) q[3];\n",
    "u3(0.984462114291173,-4.56483779756320,1.10374302667038) q[4];\n",
    "cx q[4],q[3];\n",
    "u1(0.373521507303184) q[3];\n",
    "u3(-0.914052199522678,0.0,0.0) q[4];\n",
    "cx q[3],q[4];\n",
    "u3(1.74680878376614,0.0,0.0) q[4];\n",
    "cx q[4],q[3];\n",
    "u3(2.18523190423970,0.825524926344838,0.662983333753341) q[3];\n",
    "u3(1.28143585206458,0.930939695068206,1.73426464869259) q[4];\n",
    "u3(2.88586790390374,4.18282066615206,-1.82089162928290) q[2];\n",
    "u3(1.14235875081804,-1.18753451168476,1.87989639577665) q[1];\n",
    "cx q[1],q[2];\n",
    "u1(2.08701525236352) q[2];\n",
    "u3(-2.94224444400052,0.0,0.0) q[1];\n",
    "cx q[2],q[1];\n",
    "u3(1.22466375019815,0.0,0.0) q[1];\n",
    "cx q[1],q[2];\n",
    "u3(2.74785917226328,1.22540748084369,-2.80746612765434) q[2];\n",
    "u3(1.34773632191173,0.341880460380413,1.24459050746208) q[1];\n",
    "u3(1.46564041991164,0.944360170325547,-0.00193433357494921) q[2];\n",
    "u3(1.75368726712632,-1.05216464377506,-4.66517060268469) q[4];\n",
    "cx q[4],q[2];\n",
    "u1(3.07016400541415) q[2];\n",
    "u3(-2.04821028424998,0.0,0.0) q[4];\n",
    "cx q[2],q[4];\n",
    "u3(1.31432863708158,0.0,0.0) q[4];\n",
    "cx q[4],q[2];\n",
    "u3(2.08784590137081,-2.37508279439776,3.07853053302422) q[2];\n",
    "u3(3.06381933708470,-0.821004951948144,4.53650538971025) q[4];\n",
    "u3(1.84370946587414,-1.10583839214538,-1.34756471548985) q[1];\n",
    "u3(0.535699537434057,-4.82819398376637,0.128376862676408) q[0];\n",
    "cx q[0],q[1];\n",
    "u1(-0.0383481689750749) q[1];\n",
    "u3(-2.52950713313019,0.0,0.0) q[0];\n",
    "cx q[1],q[0];\n",
    "u3(1.21809835915864,0.0,0.0) q[0];\n",
    "cx q[0],q[1];\n",
    "u3(0.977596733016533,-1.64584293537531,0.373249362880581) q[1];\n",
    "u3(0.437514479056603,5.53696621733218,-0.499769386328959) q[0];\n",
    "barrier q[0],q[1],q[2],q[3],q[4];\n",
    "measure q[0] -> c[0];\n",
    "measure q[1] -> c[1];\n",
    "measure q[2] -> c[2];\n",
    "measure q[3] -> c[3];\n",
    "measure q[4] -> c[4];\n",
    "include \"qelib1.inc\";\n",
    "qreg q[6];\n",
    "creg c[6];\n",
    "\n",
    "h q[0];\n",
    "h q[1];\n",
    "h q[2];\n",
    "h q[3];\n",
    "h q[4];\n",
    "t q[5];\n",
    "\n",
    "\n",
    "measure q[0] -> c[0];\n",
    "measure q[1] -> c[1];\n",
    "measure q[2] -> c[2];\n",
    "measure q[3] -> c[3];\n",
    "measure q[4] -> c[4];\n",
    "measure q[5] -> c[5];\n",
    "\"\"\"\n",
    "}]"
   ]
  },
  {
   "cell_type": "code",
   "execution_count": null,
   "metadata": {},
   "outputs": [],
   "source": [
    "ひとまず、simulator で計算してみる。"
   ]
  },
  {
   "cell_type": "code",
   "execution_count": 11,
   "metadata": {},
   "outputs": [
    {
     "name": "stdout",
     "output_type": "stream",
     "text": [
      "{'qasms': [{'qasm': '\\n\\ninclude \"qelib1.inc\";\\nqreg q[6];\\ncreg c[6];\\n\\nh q[0];\\nh q[1];\\nh q[2];\\nh q[3];\\nh q[4];\\nt q[5];\\n\\n\\nmeasure q[0] -> c[0];\\nmeasure q[1] -> c[1];\\nmeasure q[2] -> c[2];\\nmeasure q[3] -> c[3];\\nmeasure q[4] -> c[4];\\nmeasure q[5] -> c[5];\\n', 'status': 'WORKING_IN_PROGRESS', 'executionId': '5c36fb84668434005f577953'}], 'shots': 8192, 'backend': {'name': 'ibmq_qasm_simulator'}, 'status': 'RUNNING', 'maxCredits': 15, 'usedCredits': 0, 'creationDate': '2019-01-10T08:00:03.755Z', 'deleted': False, 'id': '5c36fb83668434005f577952', 'userId': '5ae8748c0f02050039314f73'}\n",
      "request...5c36fb83668434005f577952, return COMPLETED\n"
     ]
    }
   ],
   "source": [
    "result = get_result_simulator();"
   ]
  },
  {
   "cell_type": "code",
   "execution_count": 19,
   "metadata": {},
   "outputs": [
    {
     "name": "stdout",
     "output_type": "stream",
     "text": [
      "{'010100': 270, '010101': 244, '001100': 233, '001101': 269, '011110': 232, '011111': 253, '001001': 228, '001000': 266, '011011': 264, '011010': 269, '000110': 244, '000111': 234, '000011': 244, '000010': 265, '010010': 238, '010011': 240, '010111': 251, '010110': 265, '011000': 271, '011001': 254, '001111': 298, '001110': 274, '011101': 261, '011100': 243, '001010': 255, '001011': 281, '000000': 257, '000001': 244, '000101': 267, '000100': 265, '010001': 261, '010000': 252}\n"
     ]
    }
   ],
   "source": [
    "print(result[\"qasms\"][0][\"data\"][\"counts\"])"
   ]
  }
 ],
 "metadata": {
  "kernelspec": {
   "display_name": "Python 3",
   "language": "python",
   "name": "python3"
  },
  "language_info": {
   "codemirror_mode": {
    "name": "ipython",
    "version": 3
   },
   "file_extension": ".py",
   "mimetype": "text/x-python",
   "name": "python",
   "nbconvert_exporter": "python",
   "pygments_lexer": "ipython3",
   "version": "3.6.0"
  }
 },
 "nbformat": 4,
 "nbformat_minor": 2
}
