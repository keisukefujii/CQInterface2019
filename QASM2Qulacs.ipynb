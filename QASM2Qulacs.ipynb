{
 "cells": [
  {
   "cell_type": "markdown",
   "metadata": {},
   "source": [
    "# QASMをQulacsで実行する#"
   ]
  },
  {
   "cell_type": "code",
   "execution_count": 74,
   "metadata": {},
   "outputs": [],
   "source": [
    "import matplotlib.pyplot as plt\n",
    "import numpy as np\n",
    "import time \n",
    "import random\n",
    "from qulacs import QuantumState\n",
    "from qulacs import QuantumCircuit\n",
    "from qulacs.gate import DenseMatrix\n",
    "from qulacs.circuit import QuantumCircuitOptimizer"
   ]
  },
  {
   "cell_type": "code",
   "execution_count": 75,
   "metadata": {},
   "outputs": [],
   "source": [
    "from qulacs import QuantumState\n",
    "from qulacs.gate import Identity, X,Y,Z #パウリ演算子\n",
    "from qulacs.gate import H,S,Sdag, sqrtX,sqrtXdag,sqrtY,sqrtYdag #1量子ビット Clifford演算\n",
    "from qulacs.gate import T,Tdag #1量子ビット 非Clifford演算\n",
    "from qulacs.gate import RX,RY,RZ #パウリ演算子についての回転演算\n",
    "from qulacs.gate import CNOT, CZ, SWAP #2量子ビット演算\n",
    "from qulacs.gate import U1,U2,U3 #IBM Gate"
   ]
  },
  {
   "cell_type": "code",
   "execution_count": 76,
   "metadata": {},
   "outputs": [],
   "source": [
    "nqubits = 10\n",
    "state = QuantumState(10)\n",
    "state.set_zero_state()\n",
    "circuit = QuantumCircuit(10)"
   ]
  },
  {
   "cell_type": "markdown",
   "metadata": {},
   "source": [
    "### QASMのパーサー###\n",
    "quantum volume benchmarkにあるような、`U1`、`U3`演算と`cx`からなるようなQASMを想定しています。"
   ]
  },
  {
   "cell_type": "code",
   "execution_count": 1,
   "metadata": {},
   "outputs": [],
   "source": [
    "import re\n",
    "import parse\n",
    "\n",
    "\n",
    "def parse_qasm_to_QulacsCircuit(input_filename,qulacs_circuit):\n",
    "\n",
    "    with open(input_filename, \"r\") as ifile:\n",
    "        lines = ifile.readlines()\n",
    "\n",
    "        for line in lines:\n",
    "            s = re.search(r\"qreg|cx|u3|u1\", line)\n",
    "\n",
    "            if s is None:\n",
    "                continue\n",
    "\n",
    "            elif s.group() == 'qreg':\n",
    "                match = re.search(r\"\\d\\d*\", line)\n",
    "                print(match)\n",
    "                continue\n",
    "\n",
    "            elif s.group() == 'cx':\n",
    "                match = re.findall(r\"\\[\\d\\d*\\]\", line)  # int抽出\n",
    "                c_qbit = int(match[0].strip('[]'))\n",
    "                t_qbit = int(match[1].strip('[]'))\n",
    "                qulacs_circuit.add_gate(CNOT(c_qbit,t_qbit))   \n",
    "\n",
    "                continue\n",
    "\n",
    "            elif s.group() == 'u3':\n",
    "                m_r = re.findall(r\"[-]?\\d\\.\\d\\d*\", line)  # real抽出, 負符号考慮\n",
    "                m_i = re.findall(r\"\\[\\d\\d*\\]\", line)  # int抽出\n",
    "\n",
    "                # target_bit = m_i[0]\n",
    "                # u3parameters = m_r\n",
    "                qulacs_circuit.add_gate(U3(int(m_i[0].strip('[]')),float(m_r[0]),float(m_r[1]),float(m_r[2])))\n",
    "\n",
    "                continue\n",
    "\n",
    "            elif s.group() == 'u1':\n",
    "                m_r = re.findall(r\"[-]?\\d\\.\\d\\d*\", line)  # real抽出\n",
    "                m_i = re.findall(r\"\\[\\d\\d*\\]\", line)  # int抽出\n",
    "\n",
    "                qulacs_circuit.add_gate(U1(int(m_i[0].strip('[]')),float(m_r[0])))\n",
    "\n",
    "                continue\n"
   ]
  },
  {
   "cell_type": "markdown",
   "metadata": {},
   "source": [
    "`\"./QvolBench/quantum_volume_n5_d2.qasm\"`のとことにQASMのパスを置く"
   ]
  },
  {
   "cell_type": "code",
   "execution_count": 82,
   "metadata": {},
   "outputs": [
    {
     "name": "stdout",
     "output_type": "stream",
     "text": [
      "<_sre.SRE_Match object; span=(7, 8), match='5'>\n"
     ]
    }
   ],
   "source": [
    "parse_qasm_to_QulacsCircuit(\"./QvolBench/quantum_volume_n5_d2.qasm\",circuit)"
   ]
  },
  {
   "cell_type": "markdown",
   "metadata": {},
   "source": [
    "きちんと回路が構成されていることを確認しておこう。"
   ]
  },
  {
   "cell_type": "code",
   "execution_count": 83,
   "metadata": {},
   "outputs": [
    {
     "name": "stdout",
     "output_type": "stream",
     "text": [
      "*** Quantum Circuit Info ***\n",
      "# of qubit: 10\n",
      "# of step : 28\n",
      "# of gate : 80\n",
      "# of 1 qubit gate: 56\n",
      "# of 2 qubit gate: 24\n",
      "Clifford  : no\n",
      "Gaussian  : no\n",
      "\n",
      "\n"
     ]
    }
   ],
   "source": [
    "print(circuit)"
   ]
  },
  {
   "cell_type": "markdown",
   "metadata": {},
   "source": [
    "`update`をすると、QASMからパースした回路が実行される"
   ]
  },
  {
   "cell_type": "code",
   "execution_count": 84,
   "metadata": {},
   "outputs": [],
   "source": [
    "circuit.update_quantum_state(state) "
   ]
  },
  {
   "cell_type": "code",
   "execution_count": 85,
   "metadata": {},
   "outputs": [
    {
     "name": "stdout",
     "output_type": "stream",
     "text": [
      "[-0.03846929+0.13299097j  0.0646164 +0.18091389j  0.13391629-0.01810708j\n",
      " ...  0.        +0.j          0.        +0.j\n",
      "  0.        +0.j        ]\n"
     ]
    }
   ],
   "source": [
    "print(state.get_vector())"
   ]
  }
 ],
 "metadata": {
  "kernelspec": {
   "display_name": "Python 3",
   "language": "python",
   "name": "python3"
  },
  "language_info": {
   "codemirror_mode": {
    "name": "ipython",
    "version": 3
   },
   "file_extension": ".py",
   "mimetype": "text/x-python",
   "name": "python",
   "nbconvert_exporter": "python",
   "pygments_lexer": "ipython3",
   "version": "3.6.0"
  }
 },
 "nbformat": 4,
 "nbformat_minor": 2
}
