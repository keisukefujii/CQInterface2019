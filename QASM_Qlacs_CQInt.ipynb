{
 "cells": [
  {
   "cell_type": "markdown",
   "metadata": {},
   "source": [
    "### Qulacs を用いてQuantum Volume Benchmark用のコードをシミュレートする"
   ]
  },
  {
   "cell_type": "code",
   "execution_count": 1,
   "metadata": {},
   "outputs": [],
   "source": [
    "import matplotlib.pyplot as plt\n",
    "import numpy as np\n",
    "import time \n",
    "import random\n",
    "from qulacs import QuantumState\n",
    "from qulacs import QuantumCircuit\n",
    "from qulacs.gate import DenseMatrix\n",
    "from qulacs.circuit import QuantumCircuitOptimizer\n",
    "from qulacs import QuantumState\n",
    "from qulacs.gate import Identity, X,Y,Z #パウリ演算子\n",
    "from qulacs.gate import H,S,Sdag, sqrtX,sqrtXdag,sqrtY,sqrtYdag #1量子ビット Clifford演算\n",
    "from qulacs.gate import T,Tdag #1量子ビット 非Clifford演算\n",
    "from qulacs.gate import RX,RY,RZ #パウリ演算子についての回転演算\n",
    "from qulacs.gate import CNOT, CZ, SWAP #2量子ビット演算\n",
    "from qulacs.gate import U1,U2,U3 #IBM Gate"
   ]
  },
  {
   "cell_type": "markdown",
   "metadata": {},
   "source": [
    "### Hadamardのベンチマーク\n",
    "準備として、計測用のコードを書いておきます。"
   ]
  },
  {
   "cell_type": "code",
   "execution_count": 2,
   "metadata": {},
   "outputs": [
    {
     "name": "stdout",
     "output_type": "stream",
     "text": [
      "number of qubit:5 time:4.6129244280037406e-05[sec]\n",
      "number of qubit:6 time:4.7032740261430936e-05[sec]\n",
      "number of qubit:7 time:4.543065754034669e-05[sec]\n",
      "number of qubit:8 time:4.5086281677036996e-05[sec]\n",
      "number of qubit:9 time:4.6061652687179204e-05[sec]\n",
      "number of qubit:10 time:4.794371322383131e-05[sec]\n",
      "number of qubit:11 time:5.016391222200679e-05[sec]\n",
      "number of qubit:12 time:5.423334978377061e-05[sec]\n",
      "number of qubit:13 time:6.242161033916432e-05[sec]\n",
      "number of qubit:14 time:7.842724387204925e-05[sec]\n",
      "number of qubit:15 time:0.00011518293917693828[sec]\n",
      "number of qubit:16 time:0.00021189169303790942[sec]\n",
      "number of qubit:17 time:0.00038546793555260074[sec]\n",
      "number of qubit:18 time:0.0007461184042471426[sec]\n",
      "number of qubit:19 time:0.001367342777741261[sec]\n"
     ]
    }
   ],
   "source": [
    "import time\n",
    "bench_result_H=[[],[]]\n",
    "\n",
    "for i in range(15):\n",
    "    nqubits = i+5\n",
    "    state = QuantumState(nqubits)\n",
    "    state.set_zero_state()\n",
    "    circuit = QuantumCircuit(nqubits)\n",
    "    for j in range(nqubits):\n",
    "        circuit.add_gate(H(j)) #全部の量子ビットにHを作用させる回路を構成\n",
    "    \n",
    "    count = 0\n",
    "    \n",
    "    #計測スタート\n",
    "    start = time.time()\n",
    "    while time.time() - start < 1:\n",
    "        count = count+1\n",
    "        circuit.update_quantum_state(state)\n",
    "    elapsed_time = (time.time() - start)/(count*nqubits)\n",
    "    #計測終了\n",
    "    \n",
    "    total_counts = count*nqubits\n",
    "    bench_result_H[0].append(nqubits)    \n",
    "    bench_result_H[1].append(elapsed_time)\n",
    "    \n",
    "    print (\"number of qubit:{0}\".format(nqubits)+\" time:{0}\".format(elapsed_time) + \"[sec]\")"
   ]
  },
  {
   "cell_type": "code",
   "execution_count": 6,
   "metadata": {},
   "outputs": [
    {
     "data": {
      "text/plain": [
       "<function matplotlib.pyplot.show(*args, **kw)>"
      ]
     },
     "execution_count": 6,
     "metadata": {},
     "output_type": "execute_result"
    },
    {
     "data": {
      "image/png": "[encoded data removed]",
      "text/plain": [
       "<Figure size 432x288 with 1 Axes>"
      ]
     },
     "metadata": {
      "needs_background": "light"
     },
     "output_type": "display_data"
    }
   ],
   "source": [
    "import matplotlib.pyplot as plt\n",
    "plt.yscale(\"log\")\n",
    "plt.plot(bench_result_H[0],bench_result_H[1])\n",
    "plt.show"
   ]
  },
  {
   "cell_type": "markdown",
   "metadata": {},
   "source": [
    "自動`merge`昨日である、`QuantumCircuitOptimizer`を用いてゲートをまとめてシミュレーション時間を比較する。"
   ]
  },
  {
   "cell_type": "code",
   "execution_count": 11,
   "metadata": {},
   "outputs": [
    {
     "name": "stdout",
     "output_type": "stream",
     "text": [
      "2qubit block time:22.380998849868774[sec]\n",
      "3qubit block time:10.128243207931519[sec]\n",
      "4qubit block time:6.898831844329834[sec]\n",
      "5qubit block time:7.151185750961304[sec]\n",
      "6qubit block time:11.019920349121094[sec]\n",
      "7qubit block time:19.630569219589233[sec]\n",
      "8qubit block time:37.586716175079346[sec]\n",
      "9qubit block time:82.80436253547668[sec]\n"
     ]
    }
   ],
   "source": [
    "nqubits = 20\n",
    "\n",
    "for j in range(2,10):\n",
    "    state = QuantumState(nqubits)\n",
    "    state.set_zero_state()\n",
    "\n",
    "    circuit = QuantumCircuit(nqubits)\n",
    "\n",
    "    for i in range(nqubits*nqubits*10):\n",
    "        random_matrix = np.array([[random.random() for i in range(4)] for k in range(4)])\n",
    "        circuit.add_gate(DenseMatrix(random.sample(range(nqubits),2),random_matrix))\n",
    "    \n",
    "    opt = QuantumCircuitOptimizer()\n",
    "    max_block_size = j\n",
    "    opt.optimize(circuit, max_block_size)\n",
    "\n",
    "    start = time.time()\n",
    "    circuit.update_quantum_state(state)\n",
    "    elapsed_time = (time.time() - start)\n",
    "    print(\"{0}\".format(max_block_size) + \"qubit block time:{0}\".format(elapsed_time) + \"[sec]\")\n",
    "\n",
    "\n",
    "\n"
   ]
  },
  {
   "cell_type": "markdown",
   "metadata": {},
   "source": [
    "QASMをパースして`QuantumCircuit`を生成する。"
   ]
  },
  {
   "cell_type": "code",
   "execution_count": 2,
   "metadata": {},
   "outputs": [],
   "source": [
    "import re\n",
    "import parse\n",
    "\n",
    "\n",
    "def parse_qasm_to_QulacsCircuit(input_filename,qulacs_circuit):\n",
    "\n",
    "    with open(input_filename, \"r\") as ifile:\n",
    "        lines = ifile.readlines()\n",
    "\n",
    "        for line in lines:\n",
    "            s = re.search(r\"qreg|cx|u3|u1\", line)\n",
    "\n",
    "            if s is None:\n",
    "                continue\n",
    "\n",
    "            elif s.group() == 'qreg':\n",
    "                match = re.search(r\"\\d\\d*\", line)\n",
    "                print(match)\n",
    "                continue\n",
    "\n",
    "            elif s.group() == 'cx':\n",
    "                match = re.findall(r\"\\[\\d\\d*\\]\", line)  # int抽出\n",
    "                c_qbit = int(match[0].strip('[]'))\n",
    "                t_qbit = int(match[1].strip('[]'))\n",
    "                qulacs_circuit.add_gate(CNOT(c_qbit,t_qbit))   \n",
    "\n",
    "                continue\n",
    "\n",
    "            elif s.group() == 'u3':\n",
    "                m_r = re.findall(r\"[-]?\\d\\.\\d\\d*\", line)  # real抽出, 負符号考慮\n",
    "                m_i = re.findall(r\"\\[\\d\\d*\\]\", line)  # int抽出\n",
    "\n",
    "                # target_bit = m_i[0]\n",
    "                # u3parameters = m_r\n",
    "                qulacs_circuit.add_gate(U3(int(m_i[0].strip('[]')),float(m_r[0]),float(m_r[1]),float(m_r[2])))\n",
    "\n",
    "                continue\n",
    "\n",
    "            elif s.group() == 'u1':\n",
    "                m_r = re.findall(r\"[-]?\\d\\.\\d\\d*\", line)  # real抽出\n",
    "                m_i = re.findall(r\"\\[\\d\\d*\\]\", line)  # int抽出\n",
    "\n",
    "                qulacs_circuit.add_gate(U1(int(m_i[0].strip('[]')),float(m_r[0])))\n",
    "\n",
    "                continue\n",
    "\n"
   ]
  },
  {
   "cell_type": "code",
   "execution_count": null,
   "metadata": {},
   "outputs": [],
   "source": [
    "きちんと取り込めているか確認してみる。Quantum volume benchmarkの生成コードは、[ここから]()。"
   ]
  },
  {
   "cell_type": "code",
   "execution_count": 32,
   "metadata": {},
   "outputs": [
    {
     "name": "stdout",
     "output_type": "stream",
     "text": [
      "<_sre.SRE_Match object; span=(6, 7), match='0'>\n",
      "*** Quantum Circuit Info ***\n",
      "# of qubit: 10\n",
      "# of step : 70\n",
      "# of gate : 500\n",
      "# of 1 qubit gate: 350\n",
      "# of 2 qubit gate: 150\n",
      "Clifford  : no\n",
      "Gaussian  : no\n",
      "\n",
      "\n"
     ]
    }
   ],
   "source": [
    "nqubits = 10\n",
    "state = QuantumState(10)\n",
    "state.set_zero_state()\n",
    "circuit = QuantumCircuit(10)\n",
    "parse_qasm_to_QulacsCircuit(\"./QvolBench/quantum_volume_n{0}\".format(nqubits)+\"_d10_i.qasm\",circuit)\n",
    "print(circuit)"
   ]
  },
  {
   "cell_type": "code",
   "execution_count": 33,
   "metadata": {},
   "outputs": [
    {
     "name": "stdout",
     "output_type": "stream",
     "text": [
      "number of qubit:10 time:0.012296915054321289[sec]\n"
     ]
    }
   ],
   "source": [
    "#計測スタート\n",
    "state.set_zero_state()\n",
    "start = time.time()\n",
    "circuit.update_quantum_state(state)\n",
    "elapsed_time = time.time() - start\n",
    "print (\"number of qubit:{0}\".format(nqubits)+\" time:{0}\".format(elapsed_time) + \"[sec]\")"
   ]
  },
  {
   "cell_type": "code",
   "execution_count": 34,
   "metadata": {},
   "outputs": [
    {
     "name": "stdout",
     "output_type": "stream",
     "text": [
      "*** Quantum Circuit Info ***\n",
      "# of qubit: 10\n",
      "# of step : 10\n",
      "# of gate : 46\n",
      "# of 1 qubit gate: 0\n",
      "# of 2 qubit gate: 46\n",
      "Clifford  : no\n",
      "Gaussian  : no\n",
      "\n",
      "\n",
      "number of qubit:10 time:0.0022644996643066406[sec]\n"
     ]
    }
   ],
   "source": [
    "opt = QuantumCircuitOptimizer()\n",
    "max_block_size = 2\n",
    "opt.optimize(circuit, max_block_size)\n",
    "print(circuit)\n",
    "\n",
    "state.set_zero_state()\n",
    "start = time.time()\n",
    "circuit.update_quantum_state(state)\n",
    "elapsed_time = time.time() - start\n",
    "print (\"number of qubit:{0}\".format(nqubits)+\" time:{0}\".format(elapsed_time) + \"[sec]\")"
   ]
  },
  {
   "cell_type": "markdown",
   "metadata": {},
   "source": [
    "### 計測する"
   ]
  },
  {
   "cell_type": "code",
   "execution_count": 3,
   "metadata": {},
   "outputs": [
    {
     "name": "stdout",
     "output_type": "stream",
     "text": [
      "<_sre.SRE_Match object; span=(6, 7), match='0'>\n",
      "number of qubit:10 time:0.002992868423461914[sec]\n",
      "<_sre.SRE_Match object; span=(6, 7), match='0'>\n",
      "number of qubit:12 time:0.003975391387939453[sec]\n",
      "<_sre.SRE_Match object; span=(6, 7), match='0'>\n",
      "number of qubit:14 time:0.013583183288574219[sec]\n",
      "<_sre.SRE_Match object; span=(6, 7), match='0'>\n",
      "number of qubit:16 time:0.05003213882446289[sec]\n",
      "<_sre.SRE_Match object; span=(6, 7), match='0'>\n",
      "number of qubit:18 time:0.21669888496398926[sec]\n",
      "<_sre.SRE_Match object; span=(6, 7), match='0'>\n",
      "number of qubit:20 time:0.7942399978637695[sec]\n",
      "<_sre.SRE_Match object; span=(6, 7), match='0'>\n",
      "number of qubit:22 time:3.5742249488830566[sec]\n",
      "<_sre.SRE_Match object; span=(6, 7), match='0'>\n",
      "number of qubit:24 time:17.73240089416504[sec]\n",
      "<_sre.SRE_Match object; span=(6, 7), match='0'>\n",
      "number of qubit:26 time:69.48712587356567[sec]\n",
      "<_sre.SRE_Match object; span=(6, 7), match='0'>\n",
      "number of qubit:28 time:306.79954981803894[sec]\n"
     ]
    }
   ],
   "source": [
    "bench_result_quantum_volume = [[],[]]\n",
    "\n",
    "for i in range(10):\n",
    "    nqubits = 2*i+10\n",
    "    state = QuantumState(nqubits)\n",
    "    state.set_zero_state()\n",
    "    circuit = QuantumCircuit(nqubits)\n",
    "    parse_qasm_to_QulacsCircuit(\"./QvolBench/quantum_volume_n{0}\".format(nqubits)+\"_d10_i.qasm\",circuit)\n",
    "    #print(circuit)\n",
    "\n",
    "    opt = QuantumCircuitOptimizer()\n",
    "    max_block_size = 2\n",
    "    opt.optimize(circuit, max_block_size)\n",
    "    #print(circuit)\n",
    "\n",
    "    state.set_zero_state()\n",
    "    start = time.time()\n",
    "    circuit.update_quantum_state(state)\n",
    "    elapsed_time = time.time() - start\n",
    "    print (\"number of qubit:{0}\".format(nqubits)+\" time:{0}\".format(elapsed_time) + \"[sec]\")\n",
    "    \n",
    "    bench_result_quantum_volume[0].append(nqubits)    \n",
    "    bench_result_quantum_volume[1].append(elapsed_time)\n",
    "    "
   ]
  },
  {
   "cell_type": "code",
   "execution_count": 5,
   "metadata": {},
   "outputs": [
    {
     "data": {
      "text/plain": [
       "<function matplotlib.pyplot.show>"
      ]
     },
     "execution_count": 5,
     "metadata": {},
     "output_type": "execute_result"
    },
    {
     "data": {
      "image/png": "[encoded data removed]",
      "text/plain": [
       "<Figure size 432x288 with 1 Axes>"
      ]
     },
     "metadata": {},
     "output_type": "display_data"
    }
   ],
   "source": [
    "import matplotlib.pyplot as plt\n",
    "plt.yscale(\"log\")\n",
    "plt.plot(bench_result_quantum_volume[0],bench_result_quantum_volume[1])\n",
    "plt.show"
   ]
  },
  {
   "cell_type": "code",
   "execution_count": 8,
   "metadata": {},
   "outputs": [
    {
     "name": "stdout",
     "output_type": "stream",
     "text": [
      "10 0.002992868423461914\n",
      "12 0.003975391387939453\n",
      "14 0.013583183288574219\n",
      "16 0.05003213882446289\n",
      "18 0.21669888496398926\n",
      "20 0.7942399978637695\n",
      "22 3.5742249488830566\n",
      "24 17.73240089416504\n",
      "26 69.48712587356567\n",
      "28 306.79954981803894\n"
     ]
    }
   ],
   "source": [
    "for i in range(10):\n",
    "    print(bench_result_quantum_volume[0][i],bench_result_quantum_volume[1][i])"
   ]
  },
  {
   "cell_type": "code",
   "execution_count": 24,
   "metadata": {},
   "outputs": [
    {
     "data": {
      "text/plain": [
       "<function matplotlib.pyplot.show>"
      ]
     },
     "execution_count": 24,
     "metadata": {},
     "output_type": "execute_result"
    },
    {
     "data": {
      "image/png": "[encoded data removed]",
      "text/plain": [
       "<Figure size 432x288 with 1 Axes>"
      ]
     },
     "metadata": {},
     "output_type": "display_data"
    }
   ],
   "source": [
    "import matplotlib.pyplot as plt\n",
    "plt.yscale(\"log\")\n",
    "plt.plot(bench_result_quantum_volume[0],bench_result_quantum_volume[1])\n",
    "plt.plot([x for x in range(10,29)],[2**x/1000000 for x in range(10,29)])\n",
    "plt.show"
   ]
  },
  {
   "cell_type": "code",
   "execution_count": null,
   "metadata": {},
   "outputs": [],
   "source": []
  }
 ],
 "metadata": {
  "kernelspec": {
   "display_name": "Python 3",
   "language": "python",
   "name": "python3"
  },
  "language_info": {
   "codemirror_mode": {
    "name": "ipython",
    "version": 3
   },
   "file_extension": ".py",
   "mimetype": "text/x-python",
   "name": "python",
   "nbconvert_exporter": "python",
   "pygments_lexer": "ipython3",
   "version": "3.6.0"
  }
 },
 "nbformat": 4,
 "nbformat_minor": 2
}
